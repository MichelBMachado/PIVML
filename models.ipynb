{
 "cells": [
  {
   "cell_type": "code",
   "execution_count": 1,
   "metadata": {},
   "outputs": [],
   "source": [
    "# Dataset management packages\n",
    "from spivutils.synthetic_datasets.spid import load_data\n",
    "from spivutils.batch_generators.keras_generator import batch_data\n",
    "from spivutils.common_tools.pre_processors import preprocess_data\n",
    "from spivutils.common_tools.operations import normalization, vectoraddition, thresholding\n",
    "\n",
    "# Model packages\n",
    "import numpy as np\n",
    "import tensorflow as tf\n",
    "from keras.models import Sequential\n",
    "from keras.layers import Conv3D, MaxPooling3D, Flatten, Dense, Reshape, Activation"
   ]
  },
  {
   "cell_type": "code",
   "execution_count": 2,
   "metadata": {},
   "outputs": [],
   "source": [
    "# Force CPU usage\n",
    "tf.config.set_visible_devices([], 'GPU')"
   ]
  },
  {
   "cell_type": "code",
   "execution_count": 3,
   "metadata": {},
   "outputs": [
    {
     "name": "stdout",
     "output_type": "stream",
     "text": [
      "\n",
      " Checking files ...\n",
      "\n",
      " train_x.npy  Found!\n",
      "\n",
      " train_y.npy  Found!\n",
      "\n",
      " valid_x.npy  Found!\n",
      "\n",
      " valid_y.npy  Found!\n",
      "\n",
      " test_x.npy  Found!\n",
      "\n",
      " test_y.npy  Found!\n",
      "\n",
      " Importing data ...\n",
      "\n",
      " Data loading successful!\n"
     ]
    }
   ],
   "source": [
    "(train_x, train_y), (valid_x, valid_y), (test_x, test_y) = load_data()"
   ]
  },
  {
   "cell_type": "code",
   "execution_count": 4,
   "metadata": {},
   "outputs": [],
   "source": [
    "batch_size = 10\n",
    "chunk_size = 2000\n",
    "\n",
    "# Collect a chunk of the dataset\n",
    "train_x_chunk = train_x[0:chunk_size]\n",
    "train_y_chunk = train_y[0:chunk_size]\n",
    "valid_x_chunk = valid_x[0:chunk_size]\n",
    "valid_y_chunk = valid_y[0:chunk_size]\n",
    "\n",
    "# Load data in batches to avoid memory overload\n",
    "train_batch = batch_data(train_x_chunk, train_y_chunk, batch_size)\n",
    "valid_batch = batch_data(valid_x_chunk, valid_y_chunk, batch_size)"
   ]
  },
  {
   "attachments": {},
   "cell_type": "markdown",
   "metadata": {},
   "source": [
    "Pre-processing"
   ]
  },
  {
   "cell_type": "code",
   "execution_count": 5,
   "metadata": {},
   "outputs": [],
   "source": [
    "# Add pre-processing operations\n",
    "train_batch.add_x_preprocessing_operation(thresholding)\n",
    "train_batch.add_x_preprocessing_operation(normalization)\n",
    "train_batch.add_y_preprocessing_operation(vectoraddition)\n",
    "\n",
    "# Add pre-processing operations\n",
    "valid_batch.add_x_preprocessing_operation(thresholding)\n",
    "valid_batch.add_x_preprocessing_operation(normalization)\n",
    "valid_batch.add_y_preprocessing_operation(vectoraddition)"
   ]
  },
  {
   "cell_type": "code",
   "execution_count": 6,
   "metadata": {},
   "outputs": [],
   "source": [
    "input_shape = train_batch[0][0][0,].shape\n",
    "output_shape = train_batch[0][1][0,].shape\n",
    "\n",
    "# Model hyperparameters\n",
    "filters = 32\n",
    "kernel_size = (1,10,10)\n",
    "pool_size = (1,5,5)"
   ]
  },
  {
   "cell_type": "code",
   "execution_count": 7,
   "metadata": {},
   "outputs": [],
   "source": [
    "model = Sequential()\n",
    "\n",
    "model.add(Conv3D(filters, kernel_size = kernel_size, padding = 'same', input_shape = input_shape))\n",
    "model.add(Activation('relu'))\n",
    "model.add(MaxPooling3D(pool_size = pool_size))\n",
    "\n",
    "model.add(Conv3D(filters, kernel_size = kernel_size, padding = 'same'))\n",
    "model.add(Activation('relu'))\n",
    "model.add(MaxPooling3D(pool_size = pool_size))\n",
    "\n",
    "model.add(Conv3D(filters, kernel_size = kernel_size, padding = 'same'))\n",
    "model.add(Activation('relu'))\n",
    "model.add(MaxPooling3D(pool_size = pool_size))\n",
    "\n",
    "model.add(Flatten())\n",
    "\n",
    "model.add(Dense(filters))\n",
    "model.add(Activation('relu'))\n",
    "\n",
    "model.add(Dense(filters))\n",
    "model.add(Activation('relu'))\n",
    "\n",
    "model.add(Dense(filters))\n",
    "model.add(Activation('relu'))\n",
    "\n",
    "model.add(Dense(filters))\n",
    "model.add(Activation('linear'))\n",
    "\n",
    "model.add(Dense(np.prod(output_shape)))\n",
    "\n",
    "model.add(Reshape(output_shape))\n",
    "\n",
    "model.compile(loss = 'mean_squared_error', optimizer = 'adam')"
   ]
  },
  {
   "cell_type": "code",
   "execution_count": 8,
   "metadata": {},
   "outputs": [
    {
     "name": "stdout",
     "output_type": "stream",
     "text": [
      "Model: \"sequential\"\n",
      "_________________________________________________________________\n",
      " Layer (type)                Output Shape              Param #   \n",
      "=================================================================\n",
      " conv3d (Conv3D)             (None, 2, 630, 665, 32)   3232      \n",
      "                                                                 \n",
      " activation (Activation)     (None, 2, 630, 665, 32)   0         \n",
      "                                                                 \n",
      " max_pooling3d (MaxPooling3D  (None, 2, 126, 133, 32)  0         \n",
      " )                                                               \n",
      "                                                                 \n",
      " conv3d_1 (Conv3D)           (None, 2, 126, 133, 32)   102432    \n",
      "                                                                 \n",
      " activation_1 (Activation)   (None, 2, 126, 133, 32)   0         \n",
      "                                                                 \n",
      " max_pooling3d_1 (MaxPooling  (None, 2, 25, 26, 32)    0         \n",
      " 3D)                                                             \n",
      "                                                                 \n",
      " conv3d_2 (Conv3D)           (None, 2, 25, 26, 32)     102432    \n",
      "                                                                 \n",
      " activation_2 (Activation)   (None, 2, 25, 26, 32)     0         \n",
      "                                                                 \n",
      " max_pooling3d_2 (MaxPooling  (None, 2, 5, 5, 32)      0         \n",
      " 3D)                                                             \n",
      "                                                                 \n",
      " flatten (Flatten)           (None, 1600)              0         \n",
      "                                                                 \n",
      " dense (Dense)               (None, 32)                51232     \n",
      "                                                                 \n",
      " activation_3 (Activation)   (None, 32)                0         \n",
      "                                                                 \n",
      " dense_1 (Dense)             (None, 32)                1056      \n",
      "                                                                 \n",
      " activation_4 (Activation)   (None, 32)                0         \n",
      "                                                                 \n",
      " dense_2 (Dense)             (None, 32)                1056      \n",
      "                                                                 \n",
      " activation_5 (Activation)   (None, 32)                0         \n",
      "                                                                 \n",
      " dense_3 (Dense)             (None, 32)                1056      \n",
      "                                                                 \n",
      " activation_6 (Activation)   (None, 32)                0         \n",
      "                                                                 \n",
      " dense_4 (Dense)             (None, 418950)            13825350  \n",
      "                                                                 \n",
      " reshape (Reshape)           (None, 630, 665)          0         \n",
      "                                                                 \n",
      "=================================================================\n",
      "Total params: 14,087,846\n",
      "Trainable params: 14,087,846\n",
      "Non-trainable params: 0\n",
      "_________________________________________________________________\n"
     ]
    }
   ],
   "source": [
    "model.summary()"
   ]
  },
  {
   "cell_type": "code",
   "execution_count": 9,
   "metadata": {},
   "outputs": [
    {
     "name": "stdout",
     "output_type": "stream",
     "text": [
      "Epoch 1/2\n",
      "200/200 [==============================] - 6764s 34s/step - loss: 6.1175 - val_loss: 5.2660\n",
      "Epoch 2/2\n",
      "200/200 [==============================] - 6755s 34s/step - loss: 5.3425 - val_loss: 5.6080\n"
     ]
    },
    {
     "data": {
      "text/plain": [
       "<keras.callbacks.History at 0x295b54ddff0>"
      ]
     },
     "execution_count": 9,
     "metadata": {},
     "output_type": "execute_result"
    }
   ],
   "source": [
    "model.fit(train_batch, validation_data = valid_batch, epochs = 2)"
   ]
  }
 ],
 "metadata": {
  "kernelspec": {
   "display_name": "Python 3 (ipykernel)",
   "language": "python",
   "name": "python3"
  },
  "language_info": {
   "codemirror_mode": {
    "name": "ipython",
    "version": 3
   },
   "file_extension": ".py",
   "mimetype": "text/x-python",
   "name": "python",
   "nbconvert_exporter": "python",
   "pygments_lexer": "ipython3",
   "version": "3.10.11"
  }
 },
 "nbformat": 4,
 "nbformat_minor": 2
}
