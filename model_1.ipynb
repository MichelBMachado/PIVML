{
 "cells": [
  {
   "cell_type": "code",
   "execution_count": null,
   "metadata": {},
   "outputs": [],
   "source": [
    "# Dataset management packages\n",
    "from spivutils.synthetic_datasets.spid import load_data\n",
    "from spivutils.batch_generators.keras_generator import batch_data\n",
    "from spivutils.common_tools.pre_processors import preprocess_data\n",
    "from spivutils.common_tools.operations import normalization, vectoraddition, thresholding\n",
    "\n",
    "# General purpose packages\n",
    "import numpy as np\n",
    "\n",
    "# Model packages\n",
    "import tensorflow as tf\n",
    "from keras.models import Sequential\n",
    "from keras.layers import Conv3D, MaxPooling3D, Flatten, Dense, Reshape"
   ]
  },
  {
   "cell_type": "code",
   "execution_count": null,
   "metadata": {},
   "outputs": [],
   "source": [
    "# Force CPU usage\n",
    "tf.config.set_visible_devices([], 'GPU')"
   ]
  },
  {
   "cell_type": "code",
   "execution_count": null,
   "metadata": {},
   "outputs": [],
   "source": [
    "(train_x, train_y), (valid_x, valid_y), (test_x, test_y) = load_data()"
   ]
  },
  {
   "cell_type": "code",
   "execution_count": null,
   "metadata": {},
   "outputs": [],
   "source": [
    "batch_size = 10\n",
    "chunk_size = 20\n",
    "\n",
    "# Collect a chunk of the dataset\n",
    "train_x_chunk = train_x[0:chunk_size]\n",
    "train_y_chunk = train_y[0:chunk_size]\n",
    "valid_x_chunk = valid_x[0:chunk_size]\n",
    "valid_y_chunk = valid_y[0:chunk_size]\n",
    "\n",
    "# Load data in batches to avoid memory overload\n",
    "train_batch = batch_data(train_x_chunk, train_y_chunk, batch_size)\n",
    "valid_batch = batch_data(valid_x_chunk, valid_y_chunk, batch_size)"
   ]
  },
  {
   "cell_type": "markdown",
   "metadata": {},
   "source": [
    "Pre-processing"
   ]
  },
  {
   "cell_type": "code",
   "execution_count": null,
   "metadata": {},
   "outputs": [],
   "source": [
    "# Add pre-processing operations\n",
    "train_batch.add_x_preprocessing_operation(thresholding)\n",
    "train_batch.add_x_preprocessing_operation(normalization)\n",
    "train_batch.add_y_preprocessing_operation(vectoraddition)\n",
    "\n",
    "valid_batch.add_x_preprocessing_operation(thresholding)\n",
    "valid_batch.add_x_preprocessing_operation(normalization)\n",
    "valid_batch.add_y_preprocessing_operation(vectoraddition)"
   ]
  },
  {
   "cell_type": "code",
   "execution_count": null,
   "metadata": {},
   "outputs": [],
   "source": [
    "input_shape = train_batch[0][0][0,].shape\n",
    "output_shape = train_batch[0][1][0,].shape\n",
    "\n",
    "# Model hyperparameters\n",
    "filters = 32\n",
    "units = 64\n",
    "kernel_size = (1,10,10)\n",
    "pool_size = (1,5,5)"
   ]
  },
  {
   "cell_type": "code",
   "execution_count": null,
   "metadata": {},
   "outputs": [],
   "source": [
    "model = Sequential()\n",
    "\n",
    "model.add(Conv3D(filters = filters, kernel_size = kernel_size, activation = 'relu', input_shape = input_shape))\n",
    "model.add(MaxPooling3D(pool_size = pool_size))\n",
    "\n",
    "model.add(Flatten())\n",
    "\n",
    "model.add(Dense(units = units, activation = 'relu'))\n",
    "model.add(Dense(np.prod(output_shape)))\n",
    "\n",
    "model.add(Reshape(output_shape))\n",
    "\n",
    "model.compile(loss = 'mean_squared_error', optimizer = 'adam')"
   ]
  },
  {
   "cell_type": "code",
   "execution_count": null,
   "metadata": {},
   "outputs": [],
   "source": [
    "model.summary()"
   ]
  },
  {
   "cell_type": "code",
   "execution_count": null,
   "metadata": {},
   "outputs": [],
   "source": [
    "model.fit(train_batch, validation_data = valid_batch, epochs = 1)"
   ]
  }
 ],
 "metadata": {
  "kernelspec": {
   "display_name": "Python 3 (ipykernel)",
   "language": "python",
   "name": "python3"
  },
  "language_info": {
   "codemirror_mode": {
    "name": "ipython",
    "version": 3
   },
   "file_extension": ".py",
   "mimetype": "text/x-python",
   "name": "python",
   "nbconvert_exporter": "python",
   "pygments_lexer": "ipython3",
   "version": "3.10.11"
  }
 },
 "nbformat": 4,
 "nbformat_minor": 2
}
