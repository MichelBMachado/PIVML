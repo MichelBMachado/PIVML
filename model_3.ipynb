{
 "cells": [
  {
   "cell_type": "code",
   "execution_count": 1,
   "metadata": {},
   "outputs": [],
   "source": [
    "# Dataset management packages\n",
    "from spivutils.synthetic_datasets.spid import load_data\n",
    "from spivutils.batch_generators.keras_generator import batch_data\n",
    "from spivutils.common_tools.operations import normalization, vectoraddition, thresholding\n",
    "\n",
    "# General purpose packages\n",
    "import numpy as np\n",
    "\n",
    "# Model packages\n",
    "import tensorflow as tf\n",
    "from keras.models import Sequential\n",
    "from keras.layers import Conv2D, Conv3D, MaxPooling3D, MaxPooling2D,ConvLSTM2D,Flatten, Dense, Reshape, Activation, LSTM, TimeDistributed"
   ]
  },
  {
   "cell_type": "code",
   "execution_count": 2,
   "metadata": {},
   "outputs": [],
   "source": [
    "# Force CPU usage\n",
    "tf.config.set_visible_devices([], 'GPU')"
   ]
  },
  {
   "cell_type": "code",
   "execution_count": 3,
   "metadata": {},
   "outputs": [
    {
     "name": "stdout",
     "output_type": "stream",
     "text": [
      "\n",
      " Checking files ...\n",
      "\n",
      " train_x.npy  Found!\n",
      "\n",
      " train_y.npy  Found!\n",
      "\n",
      " valid_x.npy  Found!\n",
      "\n",
      " valid_y.npy  Found!\n",
      "\n",
      " test_x.npy  Found!\n",
      "\n",
      " test_y.npy  Found!\n",
      "\n",
      " Importing data ...\n",
      "\n",
      " Data loading successful!\n"
     ]
    }
   ],
   "source": [
    "# Data importing\n",
    "(train_x, train_y), (valid_x, valid_y), (test_x, test_y) = load_data()"
   ]
  },
  {
   "cell_type": "code",
   "execution_count": 4,
   "metadata": {},
   "outputs": [],
   "source": [
    "batch_size = 10\n",
    "chunk_size = 100\n",
    "\n",
    "# Collect a chunk of the dataset\n",
    "train_x_chunk = train_x[0:chunk_size]\n",
    "train_y_chunk = train_y[0:chunk_size]\n",
    "valid_x_chunk = valid_x[0:chunk_size]\n",
    "valid_y_chunk = valid_y[0:chunk_size]\n",
    "\n",
    "# Load data in batches to avoid memory overload\n",
    "train_batch = batch_data(train_x_chunk, train_y_chunk, batch_size)\n",
    "valid_batch = batch_data(valid_x_chunk, valid_y_chunk, batch_size)"
   ]
  },
  {
   "cell_type": "code",
   "execution_count": 5,
   "metadata": {},
   "outputs": [],
   "source": [
    "# Add pre-processing operations\n",
    "train_batch.add_x_preprocessing_operation(thresholding)\n",
    "train_batch.add_x_preprocessing_operation(normalization)\n",
    "train_batch.add_y_preprocessing_operation(vectoraddition)"
   ]
  },
  {
   "cell_type": "code",
   "execution_count": 8,
   "metadata": {},
   "outputs": [],
   "source": [
    "input_shape = train_batch[0][0][0,].shape\n",
    "output_shape = train_batch[0][1][0,].shape\n",
    "input_shape_time = (2,) + input_shape[2:]\n",
    "\n",
    "# Model hyperparameters\n",
    "filters = 64\n",
    "kernel_size = (10,10)\n",
    "pool_size = (5 ,5)\n",
    "units = 64"
   ]
  },
  {
   "cell_type": "code",
   "execution_count": 9,
   "metadata": {},
   "outputs": [],
   "source": [
    "model = Sequential()\n",
    "model.add(ConvLSTM2D(filters=filters, kernel_size=kernel_size, padding='same', input_shape=input_shape, return_sequences=False))\n",
    "model.add(Activation('relu'))\n",
    "model.add(MaxPooling2D(pool_size=pool_size))\n",
    "model.add(Flatten())\n",
    "model.add(Dense(units))\n",
    "model.add(Activation('relu'))\n",
    "model.add(Dense(np.prod(output_shape)))\n",
    "model.add(Activation('linear'))\n",
    "model.add(Reshape(output_shape))\n",
    "model.compile(loss='mean_squared_error', optimizer='adam')"
   ]
  },
  {
   "cell_type": "code",
   "execution_count": null,
   "metadata": {},
   "outputs": [],
   "source": [
    "model.build((None,) + input_shape)"
   ]
  },
  {
   "cell_type": "code",
   "execution_count": 10,
   "metadata": {},
   "outputs": [
    {
     "name": "stdout",
     "output_type": "stream",
     "text": [
      "Model: \"sequential_1\"\n",
      "_________________________________________________________________\n",
      " Layer (type)                Output Shape              Param #   \n",
      "=================================================================\n",
      " conv_lstm2d_1 (ConvLSTM2D)  (None, 630, 665, 64)      1664256   \n",
      "                                                                 \n",
      " activation_1 (Activation)   (None, 630, 665, 64)      0         \n",
      "                                                                 \n",
      " max_pooling2d_1 (MaxPooling  (None, 126, 133, 64)     0         \n",
      " 2D)                                                             \n",
      "                                                                 \n",
      " flatten (Flatten)           (None, 1072512)           0         \n",
      "                                                                 \n",
      " dense (Dense)               (None, 64)                68640832  \n",
      "                                                                 \n",
      " activation_2 (Activation)   (None, 64)                0         \n",
      "                                                                 \n",
      " dense_1 (Dense)             (None, 418950)            27231750  \n",
      "                                                                 \n",
      " activation_3 (Activation)   (None, 418950)            0         \n",
      "                                                                 \n",
      " reshape (Reshape)           (None, 630, 665)          0         \n",
      "                                                                 \n",
      "=================================================================\n",
      "Total params: 97,536,838\n",
      "Trainable params: 97,536,838\n",
      "Non-trainable params: 0\n",
      "_________________________________________________________________\n"
     ]
    }
   ],
   "source": [
    "model.summary()"
   ]
  },
  {
   "cell_type": "code",
   "execution_count": 11,
   "metadata": {},
   "outputs": [
    {
     "ename": "",
     "evalue": "",
     "output_type": "error",
     "traceback": [
      "\u001b[1;31mCanceled future for execute_request message before replies were done"
     ]
    },
    {
     "ename": "",
     "evalue": "",
     "output_type": "error",
     "traceback": [
      "\u001b[1;31mThe Kernel crashed while executing code in the the current cell or a previous cell. Please review the code in the cell(s) to identify a possible cause of the failure. Click <a href='https://aka.ms/vscodeJupyterKernelCrash'>here</a> for more info. View Jupyter <a href='command:jupyter.viewOutput'>log</a> for further details."
     ]
    }
   ],
   "source": [
    "model.fit(train_batch, validation_data = valid_batch, epochs = 1)"
   ]
  }
 ],
 "metadata": {
  "kernelspec": {
   "display_name": "vel_env",
   "language": "python",
   "name": "python3"
  },
  "language_info": {
   "codemirror_mode": {
    "name": "ipython",
    "version": 3
   },
   "file_extension": ".py",
   "mimetype": "text/x-python",
   "name": "python",
   "nbconvert_exporter": "python",
   "pygments_lexer": "ipython3",
   "version": "3.10.11"
  },
  "orig_nbformat": 4
 },
 "nbformat": 4,
 "nbformat_minor": 2
}
