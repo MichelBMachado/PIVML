{
 "cells": [
  {
   "cell_type": "markdown",
   "metadata": {},
   "source": [
    "## REQUIRED PACKAGGES"
   ]
  },
  {
   "cell_type": "code",
   "execution_count": 1,
   "metadata": {},
   "outputs": [
    {
     "name": "stderr",
     "output_type": "stream",
     "text": [
      "2023-11-14 17:46:56.793068: I tensorflow/core/platform/cpu_feature_guard.cc:182] This TensorFlow binary is optimized to use available CPU instructions in performance-critical operations.\n",
      "To enable the following instructions: AVX2 FMA, in other operations, rebuild TensorFlow with the appropriate compiler flags.\n",
      "2023-11-14 17:47:06.322976: W tensorflow/compiler/tf2tensorrt/utils/py_utils.cc:38] TF-TRT Warning: Could not find TensorRT\n"
     ]
    }
   ],
   "source": [
    "# Machine learning packages\n",
    "import tensorflow as tf\n",
    "from keras.models import Sequential\n",
    "from keras.layers import Conv2D, MaxPooling2D, Flatten, Dense, Reshape, Activation, LSTM, TimeDistributed, GlobalMaxPool2D, BatchNormalization, Dropout, InputLayer\n",
    "from keras.callbacks import EarlyStopping\n",
    "from keras import backend as k\n",
    "\n",
    "# Dataset management packages\n",
    "from spivutils.synthetic_datasets.spid import load_data\n",
    "from spivutils.batch_generators.keras_generator import batch_data\n",
    "from spivutils.common_tools.operations import normalization, vectoraddition, thresholding, imagecropping\n",
    "\n",
    "# General purpose packages\n",
    "import numpy as np\n",
    "import json\n",
    "import gc"
   ]
  },
  {
   "cell_type": "markdown",
   "metadata": {},
   "source": [
    "## HARDWARE SETTINGS"
   ]
  },
  {
   "cell_type": "code",
   "execution_count": 2,
   "metadata": {},
   "outputs": [
    {
     "name": "stderr",
     "output_type": "stream",
     "text": [
      "2023-11-14 17:47:16.461711: I tensorflow/compiler/xla/stream_executor/cuda/cuda_gpu_executor.cc:981] could not open file to read NUMA node: /sys/bus/pci/devices/0000:01:00.0/numa_node\n",
      "Your kernel may have been built without NUMA support.\n",
      "2023-11-14 17:47:16.967290: I tensorflow/compiler/xla/stream_executor/cuda/cuda_gpu_executor.cc:981] could not open file to read NUMA node: /sys/bus/pci/devices/0000:01:00.0/numa_node\n",
      "Your kernel may have been built without NUMA support.\n",
      "2023-11-14 17:47:16.967584: I tensorflow/compiler/xla/stream_executor/cuda/cuda_gpu_executor.cc:981] could not open file to read NUMA node: /sys/bus/pci/devices/0000:01:00.0/numa_node\n",
      "Your kernel may have been built without NUMA support.\n"
     ]
    }
   ],
   "source": [
    "# Detects the avaiable hardware\n",
    "cpu_devices = tf.config.list_physical_devices('CPU')\n",
    "gpu_devices = tf.config.experimental.list_physical_devices('GPU')\n",
    "\n",
    "# Allow memory growth\n",
    "for gpu in gpu_devices:\n",
    "  tf.config.experimental.set_memory_growth(gpu, True)"
   ]
  },
  {
   "attachments": {},
   "cell_type": "markdown",
   "metadata": {},
   "source": [
    "## MODEL HYPERPARAMETERS"
   ]
  },
  {
   "cell_type": "code",
   "execution_count": 3,
   "metadata": {},
   "outputs": [],
   "source": [
    "# CNN Layers Hyperparameters\n",
    "cnn_layers = 10\n",
    "filters = [2, 4, 8, 16, 32, 64, 128] + [128]*10                     #   Layer (+) --> (+)\n",
    "kernel_size = [3]*15                                                 #   Layer (+) --> (-)\n",
    "pool_size = [2]*15               #   Layer (+) --> (-)\n",
    "padding = 'same'\n",
    "strides = 1\n",
    "momentum = 0.95\n",
    "\n",
    "# Dense Layers Hyperparameters\n",
    "dense_layers = 10                                        # Number of Dense Layers\n",
    "dense_units = [2048, 1024, 512, 256, 128, 64, 32] + [32]*4    # Hidden units per layer\n",
    "\n",
    "# LSTM Layers Hyperparameters\n",
    "lstm_layers = 4                                         # Number of LSTM Layers\n",
    "lstm_units = [32, 64, 128, 256, 512, 1024]              # Hidden units per layer\n",
    "\n",
    "# Training Hyperparameters\n",
    "chunk_size = 1000                                        # Slice of the dataset\n",
    "batch_size = 5                                      # Number of patterns shown to the network before weight matrix update\n",
    "epochs = 10                                             # Number of times that the model sees the dataset\n",
    "activation = 'LeakyReLU', 'linear'                           # Sets the activation functions\n",
    "optimizer_function = 'adam'                                      # Weight update after each iteration\n",
    "loss_function = 'mean_squared_error'                             # Sets the Loss function\n",
    "learning_rate = 0.001                                           \n",
    "dropout = 0.1\n",
    "\n"
   ]
  },
  {
   "attachments": {},
   "cell_type": "markdown",
   "metadata": {},
   "source": [
    "## DATA MANAGING"
   ]
  },
  {
   "cell_type": "code",
   "execution_count": 4,
   "metadata": {},
   "outputs": [
    {
     "name": "stdout",
     "output_type": "stream",
     "text": [
      "\n",
      " Checking files ...\n",
      "\n",
      " train_x.npy  Found!\n",
      "\n",
      " train_y.npy  Found!\n",
      "\n",
      " valid_x.npy  Found!\n",
      "\n",
      " valid_y.npy  Found!\n",
      "\n",
      " test_x.npy  Found!\n",
      "\n",
      " test_y.npy  Found!\n",
      "\n",
      " Importing data ...\n",
      "\n",
      " Data loading successful!\n"
     ]
    }
   ],
   "source": [
    "# Data importing\n",
    "(train_x, train_y), (valid_x, valid_y), _ = load_data()\n",
    "\n",
    "# Collect a chunk of the dataset\n",
    "train_x_chunk = train_x[0:int(chunk_size*0.7)]\n",
    "train_y_chunk = train_y[0:int(chunk_size*0.7)]\n",
    "valid_x_chunk = valid_x[0:int(chunk_size*0.15)]\n",
    "valid_y_chunk = valid_y[0:int(chunk_size*0.15)]\n",
    "\n",
    "# Load data in batches to avoid memory overload\n",
    "train_batch = batch_data(train_x_chunk, train_y_chunk, batch_size)\n",
    "valid_batch = batch_data(valid_x_chunk, valid_y_chunk, batch_size)"
   ]
  },
  {
   "attachments": {},
   "cell_type": "markdown",
   "metadata": {},
   "source": [
    "## Pre-processing"
   ]
  },
  {
   "cell_type": "code",
   "execution_count": 5,
   "metadata": {},
   "outputs": [],
   "source": [
    "def standardization(input_data):\n",
    "\n",
    "    output_data = np.zeros(input_data.shape)\n",
    "\n",
    "    #min = np.min(input_data)\n",
    "    #max = np.max(input_data)\n",
    "\n",
    "    max = 8.75\n",
    "    min = 0\n",
    "\n",
    "    output_data[:, :, :] = (input_data[:, :, :] - min)/(max - min)\n",
    "\n",
    "    return output_data"
   ]
  },
  {
   "cell_type": "code",
   "execution_count": 6,
   "metadata": {},
   "outputs": [],
   "source": [
    "def standardization(input_data):\n",
    "\n",
    "    output_data = np.zeros(input_data.shape)\n",
    "\n",
    "    #min = np.min(input_data)\n",
    "    #max = np.max(input_data)\n",
    "\n",
    "    max = 8.75\n",
    "    min = -8.75\n",
    "\n",
    "    for i in range(2):\n",
    "\n",
    "        output_data[:, i, :, :] = (input_data[:, i, :, :] - min)/(max - min)\n",
    "\n",
    "    return output_data"
   ]
  },
  {
   "cell_type": "code",
   "execution_count": 6,
   "metadata": {},
   "outputs": [],
   "source": [
    "train_batch.add_x_preprocessing_operation(imagecropping)\n",
    "valid_batch.add_x_preprocessing_operation(imagecropping)\n",
    "\n",
    "train_batch.add_y_preprocessing_operation(imagecropping)\n",
    "valid_batch.add_y_preprocessing_operation(imagecropping)\n",
    "\n",
    "train_batch.add_y_preprocessing_operation(vectoraddition)\n",
    "valid_batch.add_y_preprocessing_operation(vectoraddition)\n",
    "\n",
    "train_batch.add_x_preprocessing_operation(normalization)\n",
    "valid_batch.add_x_preprocessing_operation(normalization)\n",
    "\n",
    "train_batch.add_y_preprocessing_operation(standardization)\n",
    "valid_batch.add_y_preprocessing_operation(standardization)"
   ]
  },
  {
   "cell_type": "code",
   "execution_count": null,
   "metadata": {},
   "outputs": [],
   "source": [
    "# 1 = 7.0427\n",
    "# vec - off\n",
    "# norm - off\n",
    "# std - off\n",
    "\n",
    "#2 = 5.4538\n",
    "# vec - on\n",
    "# norm - off\n",
    "# std - off\n",
    "\n",
    "#3 = 7.086706161499023\n",
    "# vec - off\n",
    "# norm - on\n",
    "# std - off\n",
    "\n",
    "#4 = 0.024497942999005318\n",
    "# vec - off\n",
    "# norm - off\n",
    "# std - on\n",
    "\n",
    "#5 = 0.024538975208997726\n",
    "# vec - off\n",
    "# norm - on\n",
    "# std - on\n",
    "\n",
    "#6\n",
    "# vec - on\n",
    "# norm - on\n",
    "# std - on"
   ]
  },
  {
   "attachments": {},
   "cell_type": "markdown",
   "metadata": {},
   "source": [
    "## Model Definition"
   ]
  },
  {
   "cell_type": "code",
   "execution_count": 7,
   "metadata": {},
   "outputs": [],
   "source": [
    "# Convolutional neural network setup\n",
    "def build_cnn_layers(model, num_layers, filters, kernel_size, pool_size, strides, padding, activation, momentum):\n",
    "\n",
    "    for layer in range(0, num_layers):\n",
    "        model.add(TimeDistributed(Conv2D(   \n",
    "                                            filters = filters[layer], \n",
    "                                            kernel_size = kernel_size[layer],\n",
    "                                            strides = strides, \n",
    "                                            padding = padding\n",
    "                                            \n",
    "                                            )))\n",
    "\n",
    "        model.add(TimeDistributed(Activation(activation[0])))\n",
    "        \n",
    "        model.add(TimeDistributed(BatchNormalization(momentum = momentum)))\n",
    "\n",
    "        model.add(TimeDistributed(MaxPooling2D(pool_size = pool_size[layer], \n",
    "                                               padding = padding)))\n",
    "       \n",
    "    model.add(TimeDistributed(Flatten()))"
   ]
  },
  {
   "cell_type": "code",
   "execution_count": 8,
   "metadata": {},
   "outputs": [],
   "source": [
    "def build_lstm_layers(model, lstm_units, num_layers):\n",
    "\n",
    "    for layer in range(0, num_layers - 1):\n",
    "\n",
    "        model.add(LSTM(units = lstm_units[layer], return_sequences = True))\n",
    "\n",
    "    model.add(LSTM(units = lstm_units[layer], return_sequences = False))"
   ]
  },
  {
   "cell_type": "code",
   "execution_count": 9,
   "metadata": {},
   "outputs": [],
   "source": [
    "def build_dense_layers(model, dense_units, activation, num_layers, dropout):\n",
    "\n",
    "    for layer in range(0, num_layers):\n",
    "\n",
    "        model.add(Dense(units = dense_units[layer]))\n",
    "        model.add(Activation(activation[0]))\n",
    "        model.add(Dropout(dropout))  "
   ]
  },
  {
   "cell_type": "code",
   "execution_count": 10,
   "metadata": {},
   "outputs": [],
   "source": [
    "def build_model(input_shape, output_shape, filters, kernel_size, pool_size, lstm_units, dense_units, activation, padding):\n",
    "\n",
    "    model = Sequential()\n",
    "\n",
    "    model.add(InputLayer(input_shape))\n",
    "\n",
    "    build_cnn_layers(model, cnn_layers, filters, kernel_size, pool_size, strides, padding, activation, momentum)\n",
    "\n",
    "    build_lstm_layers(model, lstm_units, lstm_layers)\n",
    "\n",
    "    build_dense_layers(model, dense_units, activation, dense_layers, dropout)\n",
    "\n",
    "    model.add(Dense(np.prod(output_shape)))\n",
    "    model.add(Activation(activation[1]))\n",
    "\n",
    "    model.add(Reshape(output_shape))\n",
    "\n",
    "    return model"
   ]
  },
  {
   "cell_type": "code",
   "execution_count": 11,
   "metadata": {},
   "outputs": [
    {
     "name": "stderr",
     "output_type": "stream",
     "text": [
      "2023-11-14 17:47:22.066139: I tensorflow/compiler/xla/stream_executor/cuda/cuda_gpu_executor.cc:981] could not open file to read NUMA node: /sys/bus/pci/devices/0000:01:00.0/numa_node\n",
      "Your kernel may have been built without NUMA support.\n",
      "2023-11-14 17:47:22.066661: I tensorflow/compiler/xla/stream_executor/cuda/cuda_gpu_executor.cc:981] could not open file to read NUMA node: /sys/bus/pci/devices/0000:01:00.0/numa_node\n",
      "Your kernel may have been built without NUMA support.\n",
      "2023-11-14 17:47:22.067108: I tensorflow/compiler/xla/stream_executor/cuda/cuda_gpu_executor.cc:981] could not open file to read NUMA node: /sys/bus/pci/devices/0000:01:00.0/numa_node\n",
      "Your kernel may have been built without NUMA support.\n",
      "2023-11-14 17:47:31.420558: I tensorflow/compiler/xla/stream_executor/cuda/cuda_gpu_executor.cc:981] could not open file to read NUMA node: /sys/bus/pci/devices/0000:01:00.0/numa_node\n",
      "Your kernel may have been built without NUMA support.\n",
      "2023-11-14 17:47:31.421644: I tensorflow/compiler/xla/stream_executor/cuda/cuda_gpu_executor.cc:981] could not open file to read NUMA node: /sys/bus/pci/devices/0000:01:00.0/numa_node\n",
      "Your kernel may have been built without NUMA support.\n",
      "2023-11-14 17:47:31.421692: I tensorflow/core/common_runtime/gpu/gpu_device.cc:1726] Could not identify NUMA node of platform GPU id 0, defaulting to 0.  Your kernel may not have been built with NUMA support.\n",
      "2023-11-14 17:47:31.422548: I tensorflow/compiler/xla/stream_executor/cuda/cuda_gpu_executor.cc:981] could not open file to read NUMA node: /sys/bus/pci/devices/0000:01:00.0/numa_node\n",
      "Your kernel may have been built without NUMA support.\n",
      "2023-11-14 17:47:31.427808: I tensorflow/core/common_runtime/gpu/gpu_device.cc:1639] Created device /job:localhost/replica:0/task:0/device:GPU:0 with 3911 MB memory:  -> device: 0, name: NVIDIA GeForce GTX 1660 Ti, pci bus id: 0000:01:00.0, compute capability: 7.5\n"
     ]
    }
   ],
   "source": [
    "# Model dimensions\n",
    "input_shape = train_batch[0][0][0,].shape\n",
    "output_shape = train_batch[0][1][0,].shape\n",
    "\n",
    "model = build_model(input_shape, output_shape, filters, kernel_size, pool_size, lstm_units, dense_units, activation, padding)\n",
    "\n",
    "model.compile(loss = loss_function, optimizer = optimizer_function)"
   ]
  },
  {
   "cell_type": "markdown",
   "metadata": {},
   "source": [
    "## MODEL SUMMARIZATION"
   ]
  },
  {
   "cell_type": "code",
   "execution_count": 12,
   "metadata": {},
   "outputs": [
    {
     "name": "stdout",
     "output_type": "stream",
     "text": [
      "Model: \"sequential\"\n",
      "_________________________________________________________________\n",
      " Layer (type)                Output Shape              Param #   \n",
      "=================================================================\n",
      " time_distributed (TimeDist  (None, 2, 630, 630, 2)    20        \n",
      " ributed)                                                        \n",
      "                                                                 \n",
      " time_distributed_1 (TimeDi  (None, 2, 630, 630, 2)    0         \n",
      " stributed)                                                      \n",
      "                                                                 \n",
      " time_distributed_2 (TimeDi  (None, 2, 630, 630, 2)    8         \n",
      " stributed)                                                      \n",
      "                                                                 \n",
      " time_distributed_3 (TimeDi  (None, 2, 315, 315, 2)    0         \n",
      " stributed)                                                      \n",
      "                                                                 \n",
      " time_distributed_4 (TimeDi  (None, 2, 315, 315, 4)    76        \n",
      " stributed)                                                      \n",
      "                                                                 \n",
      " time_distributed_5 (TimeDi  (None, 2, 315, 315, 4)    0         \n",
      " stributed)                                                      \n",
      "                                                                 \n",
      " time_distributed_6 (TimeDi  (None, 2, 315, 315, 4)    16        \n",
      " stributed)                                                      \n",
      "                                                                 \n",
      " time_distributed_7 (TimeDi  (None, 2, 158, 158, 4)    0         \n",
      " stributed)                                                      \n",
      "                                                                 \n",
      " time_distributed_8 (TimeDi  (None, 2, 158, 158, 8)    296       \n",
      " stributed)                                                      \n",
      "                                                                 \n",
      " time_distributed_9 (TimeDi  (None, 2, 158, 158, 8)    0         \n",
      " stributed)                                                      \n",
      "                                                                 \n",
      " time_distributed_10 (TimeD  (None, 2, 158, 158, 8)    32        \n",
      " istributed)                                                     \n",
      "                                                                 \n",
      " time_distributed_11 (TimeD  (None, 2, 79, 79, 8)      0         \n",
      " istributed)                                                     \n",
      "                                                                 \n",
      " time_distributed_12 (TimeD  (None, 2, 79, 79, 16)     1168      \n",
      " istributed)                                                     \n",
      "                                                                 \n",
      " time_distributed_13 (TimeD  (None, 2, 79, 79, 16)     0         \n",
      " istributed)                                                     \n",
      "                                                                 \n",
      " time_distributed_14 (TimeD  (None, 2, 79, 79, 16)     64        \n",
      " istributed)                                                     \n",
      "                                                                 \n",
      " time_distributed_15 (TimeD  (None, 2, 40, 40, 16)     0         \n",
      " istributed)                                                     \n",
      "                                                                 \n",
      " time_distributed_16 (TimeD  (None, 2, 40, 40, 32)     4640      \n",
      " istributed)                                                     \n",
      "                                                                 \n",
      " time_distributed_17 (TimeD  (None, 2, 40, 40, 32)     0         \n",
      " istributed)                                                     \n",
      "                                                                 \n",
      " time_distributed_18 (TimeD  (None, 2, 40, 40, 32)     128       \n",
      " istributed)                                                     \n",
      "                                                                 \n",
      " time_distributed_19 (TimeD  (None, 2, 20, 20, 32)     0         \n",
      " istributed)                                                     \n",
      "                                                                 \n",
      " time_distributed_20 (TimeD  (None, 2, 20, 20, 64)     18496     \n",
      " istributed)                                                     \n",
      "                                                                 \n",
      " time_distributed_21 (TimeD  (None, 2, 20, 20, 64)     0         \n",
      " istributed)                                                     \n",
      "                                                                 \n",
      " time_distributed_22 (TimeD  (None, 2, 20, 20, 64)     256       \n",
      " istributed)                                                     \n",
      "                                                                 \n",
      " time_distributed_23 (TimeD  (None, 2, 10, 10, 64)     0         \n",
      " istributed)                                                     \n",
      "                                                                 \n",
      " time_distributed_24 (TimeD  (None, 2, 10, 10, 128)    73856     \n",
      " istributed)                                                     \n",
      "                                                                 \n",
      " time_distributed_25 (TimeD  (None, 2, 10, 10, 128)    0         \n",
      " istributed)                                                     \n",
      "                                                                 \n",
      " time_distributed_26 (TimeD  (None, 2, 10, 10, 128)    512       \n",
      " istributed)                                                     \n",
      "                                                                 \n",
      " time_distributed_27 (TimeD  (None, 2, 5, 5, 128)      0         \n",
      " istributed)                                                     \n",
      "                                                                 \n",
      " time_distributed_28 (TimeD  (None, 2, 5, 5, 128)      147584    \n",
      " istributed)                                                     \n",
      "                                                                 \n",
      " time_distributed_29 (TimeD  (None, 2, 5, 5, 128)      0         \n",
      " istributed)                                                     \n",
      "                                                                 \n",
      " time_distributed_30 (TimeD  (None, 2, 5, 5, 128)      512       \n",
      " istributed)                                                     \n",
      "                                                                 \n",
      " time_distributed_31 (TimeD  (None, 2, 3, 3, 128)      0         \n",
      " istributed)                                                     \n",
      "                                                                 \n",
      " time_distributed_32 (TimeD  (None, 2, 3, 3, 128)      147584    \n",
      " istributed)                                                     \n",
      "                                                                 \n",
      " time_distributed_33 (TimeD  (None, 2, 3, 3, 128)      0         \n",
      " istributed)                                                     \n",
      "                                                                 \n",
      " time_distributed_34 (TimeD  (None, 2, 3, 3, 128)      512       \n",
      " istributed)                                                     \n",
      "                                                                 \n",
      " time_distributed_35 (TimeD  (None, 2, 2, 2, 128)      0         \n",
      " istributed)                                                     \n",
      "                                                                 \n",
      " time_distributed_36 (TimeD  (None, 2, 2, 2, 128)      147584    \n",
      " istributed)                                                     \n",
      "                                                                 \n",
      " time_distributed_37 (TimeD  (None, 2, 2, 2, 128)      0         \n",
      " istributed)                                                     \n",
      "                                                                 \n",
      " time_distributed_38 (TimeD  (None, 2, 2, 2, 128)      512       \n",
      " istributed)                                                     \n",
      "                                                                 \n",
      " time_distributed_39 (TimeD  (None, 2, 1, 1, 128)      0         \n",
      " istributed)                                                     \n",
      "                                                                 \n",
      " time_distributed_40 (TimeD  (None, 2, 128)            0         \n",
      " istributed)                                                     \n",
      "                                                                 \n",
      " lstm (LSTM)                 (None, 2, 32)             20608     \n",
      "                                                                 \n",
      " lstm_1 (LSTM)               (None, 2, 64)             24832     \n",
      "                                                                 \n",
      " lstm_2 (LSTM)               (None, 2, 128)            98816     \n",
      "                                                                 \n",
      " lstm_3 (LSTM)               (None, 128)               131584    \n",
      "                                                                 \n",
      " dense (Dense)               (None, 2048)              264192    \n",
      "                                                                 \n",
      " activation_10 (Activation)  (None, 2048)              0         \n",
      "                                                                 \n",
      " dropout (Dropout)           (None, 2048)              0         \n",
      "                                                                 \n",
      " dense_1 (Dense)             (None, 1024)              2098176   \n",
      "                                                                 \n",
      " activation_11 (Activation)  (None, 1024)              0         \n",
      "                                                                 \n",
      " dropout_1 (Dropout)         (None, 1024)              0         \n",
      "                                                                 \n",
      " dense_2 (Dense)             (None, 512)               524800    \n",
      "                                                                 \n",
      " activation_12 (Activation)  (None, 512)               0         \n",
      "                                                                 \n",
      " dropout_2 (Dropout)         (None, 512)               0         \n",
      "                                                                 \n",
      " dense_3 (Dense)             (None, 256)               131328    \n",
      "                                                                 \n",
      " activation_13 (Activation)  (None, 256)               0         \n",
      "                                                                 \n",
      " dropout_3 (Dropout)         (None, 256)               0         \n",
      "                                                                 \n",
      " dense_4 (Dense)             (None, 128)               32896     \n",
      "                                                                 \n",
      " activation_14 (Activation)  (None, 128)               0         \n",
      "                                                                 \n",
      " dropout_4 (Dropout)         (None, 128)               0         \n",
      "                                                                 \n",
      " dense_5 (Dense)             (None, 64)                8256      \n",
      "                                                                 \n",
      " activation_15 (Activation)  (None, 64)                0         \n",
      "                                                                 \n",
      " dropout_5 (Dropout)         (None, 64)                0         \n",
      "                                                                 \n",
      " dense_6 (Dense)             (None, 32)                2080      \n",
      "                                                                 \n",
      " activation_16 (Activation)  (None, 32)                0         \n",
      "                                                                 \n",
      " dropout_6 (Dropout)         (None, 32)                0         \n",
      "                                                                 \n",
      " dense_7 (Dense)             (None, 32)                1056      \n",
      "                                                                 \n",
      " activation_17 (Activation)  (None, 32)                0         \n",
      "                                                                 \n",
      " dropout_7 (Dropout)         (None, 32)                0         \n",
      "                                                                 \n",
      " dense_8 (Dense)             (None, 32)                1056      \n",
      "                                                                 \n",
      " activation_18 (Activation)  (None, 32)                0         \n",
      "                                                                 \n",
      " dropout_8 (Dropout)         (None, 32)                0         \n",
      "                                                                 \n",
      " dense_9 (Dense)             (None, 32)                1056      \n",
      "                                                                 \n",
      " activation_19 (Activation)  (None, 32)                0         \n",
      "                                                                 \n",
      " dropout_9 (Dropout)         (None, 32)                0         \n",
      "                                                                 \n",
      " dense_10 (Dense)            (None, 396900)            13097700  \n",
      "                                                                 \n",
      " activation_20 (Activation)  (None, 396900)            0         \n",
      "                                                                 \n",
      " reshape (Reshape)           (None, 630, 630)          0         \n",
      "                                                                 \n",
      "=================================================================\n",
      "Total params: 16982292 (64.78 MB)\n",
      "Trainable params: 16981016 (64.78 MB)\n",
      "Non-trainable params: 1276 (4.98 KB)\n",
      "_________________________________________________________________\n"
     ]
    }
   ],
   "source": [
    "model.summary()"
   ]
  },
  {
   "cell_type": "markdown",
   "metadata": {},
   "source": [
    "## MODEL TRAINING"
   ]
  },
  {
   "cell_type": "code",
   "execution_count": 13,
   "metadata": {},
   "outputs": [],
   "source": [
    "# Defines an Early Stop callback\n",
    "#es_callback = EarlyStopping(monitor = 'val_loss', patience = 3)\n",
    "\n",
    "class ClearMemory(tf.keras.callbacks.Callback):\n",
    "    def on_epoch_end(self, epoch, logs = None):\n",
    "        gc.collect()\n",
    "        k.clear_session()"
   ]
  },
  {
   "cell_type": "code",
   "execution_count": 14,
   "metadata": {},
   "outputs": [
    {
     "name": "stderr",
     "output_type": "stream",
     "text": [
      "2023-11-14 17:47:35.930615: W tensorflow/tsl/framework/cpu_allocator_impl.cc:83] Allocation of 15876000 exceeds 10% of free system memory.\n"
     ]
    },
    {
     "name": "stdout",
     "output_type": "stream",
     "text": [
      "Epoch 1/10\n"
     ]
    },
    {
     "name": "stderr",
     "output_type": "stream",
     "text": [
      "2023-11-14 17:47:56.986179: I tensorflow/compiler/xla/stream_executor/cuda/cuda_dnn.cc:432] Loaded cuDNN version 8600\n",
      "2023-11-14 17:48:25.648045: I tensorflow/compiler/xla/service/service.cc:168] XLA service 0x7f1b0c0183d0 initialized for platform CUDA (this does not guarantee that XLA will be used). Devices:\n",
      "2023-11-14 17:48:25.648101: I tensorflow/compiler/xla/service/service.cc:176]   StreamExecutor device (0): NVIDIA GeForce GTX 1660 Ti, Compute Capability 7.5\n",
      "2023-11-14 17:48:27.928381: I tensorflow/compiler/mlir/tensorflow/utils/dump_mlir_util.cc:255] disabling MLIR crash reproducer, set env var `MLIR_CRASH_REPRODUCER_DIRECTORY` to enable.\n",
      "2023-11-14 17:48:35.476835: I ./tensorflow/compiler/jit/device_compiler.h:186] Compiled cluster using XLA!  This line is logged at most once for the lifetime of the process.\n"
     ]
    },
    {
     "name": "stdout",
     "output_type": "stream",
     "text": [
      "  5/140 [>.............................] - ETA: 34s - loss: 0.2710"
     ]
    },
    {
     "name": "stderr",
     "output_type": "stream",
     "text": [
      "2023-11-14 17:48:49.724526: W tensorflow/tsl/framework/cpu_allocator_impl.cc:83] Allocation of 15876000 exceeds 10% of free system memory.\n"
     ]
    },
    {
     "name": "stdout",
     "output_type": "stream",
     "text": [
      " 24/140 [====>.........................] - ETA: 1:06 - loss: 0.2088"
     ]
    },
    {
     "name": "stderr",
     "output_type": "stream",
     "text": [
      "2023-11-14 17:49:01.802507: W tensorflow/tsl/framework/cpu_allocator_impl.cc:83] Allocation of 15876000 exceeds 10% of free system memory.\n"
     ]
    },
    {
     "name": "stdout",
     "output_type": "stream",
     "text": [
      " 28/140 [=====>........................] - ETA: 1:02 - loss: 0.2116"
     ]
    },
    {
     "ename": "KeyboardInterrupt",
     "evalue": "",
     "output_type": "error",
     "traceback": [
      "\u001b[0;31m---------------------------------------------------------------------------\u001b[0m",
      "\u001b[0;31mKeyboardInterrupt\u001b[0m                         Traceback (most recent call last)",
      "\u001b[1;32m/home/michel/projetos/PIVML/model_2 copy.ipynb Cell 24\u001b[0m line \u001b[0;36m1\n\u001b[0;32m----> <a href='vscode-notebook-cell://wsl%2Bubuntu-22.04/home/michel/projetos/PIVML/model_2%20copy.ipynb#X32sdnNjb2RlLXJlbW90ZQ%3D%3D?line=0'>1</a>\u001b[0m history \u001b[39m=\u001b[39m model\u001b[39m.\u001b[39;49mfit(train_batch, validation_data \u001b[39m=\u001b[39;49m valid_batch, epochs \u001b[39m=\u001b[39;49m epochs, callbacks \u001b[39m=\u001b[39;49m [ClearMemory()])\n",
      "File \u001b[0;32m~/miniconda3/envs/tf/lib/python3.9/site-packages/keras/src/utils/traceback_utils.py:65\u001b[0m, in \u001b[0;36mfilter_traceback.<locals>.error_handler\u001b[0;34m(*args, **kwargs)\u001b[0m\n\u001b[1;32m     63\u001b[0m filtered_tb \u001b[39m=\u001b[39m \u001b[39mNone\u001b[39;00m\n\u001b[1;32m     64\u001b[0m \u001b[39mtry\u001b[39;00m:\n\u001b[0;32m---> 65\u001b[0m     \u001b[39mreturn\u001b[39;00m fn(\u001b[39m*\u001b[39;49margs, \u001b[39m*\u001b[39;49m\u001b[39m*\u001b[39;49mkwargs)\n\u001b[1;32m     66\u001b[0m \u001b[39mexcept\u001b[39;00m \u001b[39mException\u001b[39;00m \u001b[39mas\u001b[39;00m e:\n\u001b[1;32m     67\u001b[0m     filtered_tb \u001b[39m=\u001b[39m _process_traceback_frames(e\u001b[39m.\u001b[39m__traceback__)\n",
      "File \u001b[0;32m~/miniconda3/envs/tf/lib/python3.9/site-packages/keras/src/engine/training.py:1742\u001b[0m, in \u001b[0;36mModel.fit\u001b[0;34m(self, x, y, batch_size, epochs, verbose, callbacks, validation_split, validation_data, shuffle, class_weight, sample_weight, initial_epoch, steps_per_epoch, validation_steps, validation_batch_size, validation_freq, max_queue_size, workers, use_multiprocessing)\u001b[0m\n\u001b[1;32m   1734\u001b[0m \u001b[39mwith\u001b[39;00m tf\u001b[39m.\u001b[39mprofiler\u001b[39m.\u001b[39mexperimental\u001b[39m.\u001b[39mTrace(\n\u001b[1;32m   1735\u001b[0m     \u001b[39m\"\u001b[39m\u001b[39mtrain\u001b[39m\u001b[39m\"\u001b[39m,\n\u001b[1;32m   1736\u001b[0m     epoch_num\u001b[39m=\u001b[39mepoch,\n\u001b[0;32m   (...)\u001b[0m\n\u001b[1;32m   1739\u001b[0m     _r\u001b[39m=\u001b[39m\u001b[39m1\u001b[39m,\n\u001b[1;32m   1740\u001b[0m ):\n\u001b[1;32m   1741\u001b[0m     callbacks\u001b[39m.\u001b[39mon_train_batch_begin(step)\n\u001b[0;32m-> 1742\u001b[0m     tmp_logs \u001b[39m=\u001b[39m \u001b[39mself\u001b[39;49m\u001b[39m.\u001b[39;49mtrain_function(iterator)\n\u001b[1;32m   1743\u001b[0m     \u001b[39mif\u001b[39;00m data_handler\u001b[39m.\u001b[39mshould_sync:\n\u001b[1;32m   1744\u001b[0m         context\u001b[39m.\u001b[39masync_wait()\n",
      "File \u001b[0;32m~/miniconda3/envs/tf/lib/python3.9/site-packages/tensorflow/python/util/traceback_utils.py:150\u001b[0m, in \u001b[0;36mfilter_traceback.<locals>.error_handler\u001b[0;34m(*args, **kwargs)\u001b[0m\n\u001b[1;32m    148\u001b[0m filtered_tb \u001b[39m=\u001b[39m \u001b[39mNone\u001b[39;00m\n\u001b[1;32m    149\u001b[0m \u001b[39mtry\u001b[39;00m:\n\u001b[0;32m--> 150\u001b[0m   \u001b[39mreturn\u001b[39;00m fn(\u001b[39m*\u001b[39;49margs, \u001b[39m*\u001b[39;49m\u001b[39m*\u001b[39;49mkwargs)\n\u001b[1;32m    151\u001b[0m \u001b[39mexcept\u001b[39;00m \u001b[39mException\u001b[39;00m \u001b[39mas\u001b[39;00m e:\n\u001b[1;32m    152\u001b[0m   filtered_tb \u001b[39m=\u001b[39m _process_traceback_frames(e\u001b[39m.\u001b[39m__traceback__)\n",
      "File \u001b[0;32m~/miniconda3/envs/tf/lib/python3.9/site-packages/tensorflow/python/eager/polymorphic_function/polymorphic_function.py:825\u001b[0m, in \u001b[0;36mFunction.__call__\u001b[0;34m(self, *args, **kwds)\u001b[0m\n\u001b[1;32m    822\u001b[0m compiler \u001b[39m=\u001b[39m \u001b[39m\"\u001b[39m\u001b[39mxla\u001b[39m\u001b[39m\"\u001b[39m \u001b[39mif\u001b[39;00m \u001b[39mself\u001b[39m\u001b[39m.\u001b[39m_jit_compile \u001b[39melse\u001b[39;00m \u001b[39m\"\u001b[39m\u001b[39mnonXla\u001b[39m\u001b[39m\"\u001b[39m\n\u001b[1;32m    824\u001b[0m \u001b[39mwith\u001b[39;00m OptionalXlaContext(\u001b[39mself\u001b[39m\u001b[39m.\u001b[39m_jit_compile):\n\u001b[0;32m--> 825\u001b[0m   result \u001b[39m=\u001b[39m \u001b[39mself\u001b[39;49m\u001b[39m.\u001b[39;49m_call(\u001b[39m*\u001b[39;49margs, \u001b[39m*\u001b[39;49m\u001b[39m*\u001b[39;49mkwds)\n\u001b[1;32m    827\u001b[0m new_tracing_count \u001b[39m=\u001b[39m \u001b[39mself\u001b[39m\u001b[39m.\u001b[39mexperimental_get_tracing_count()\n\u001b[1;32m    828\u001b[0m without_tracing \u001b[39m=\u001b[39m (tracing_count \u001b[39m==\u001b[39m new_tracing_count)\n",
      "File \u001b[0;32m~/miniconda3/envs/tf/lib/python3.9/site-packages/tensorflow/python/eager/polymorphic_function/polymorphic_function.py:857\u001b[0m, in \u001b[0;36mFunction._call\u001b[0;34m(self, *args, **kwds)\u001b[0m\n\u001b[1;32m    854\u001b[0m   \u001b[39mself\u001b[39m\u001b[39m.\u001b[39m_lock\u001b[39m.\u001b[39mrelease()\n\u001b[1;32m    855\u001b[0m   \u001b[39m# In this case we have created variables on the first call, so we run the\u001b[39;00m\n\u001b[1;32m    856\u001b[0m   \u001b[39m# defunned version which is guaranteed to never create variables.\u001b[39;00m\n\u001b[0;32m--> 857\u001b[0m   \u001b[39mreturn\u001b[39;00m \u001b[39mself\u001b[39;49m\u001b[39m.\u001b[39;49m_no_variable_creation_fn(\u001b[39m*\u001b[39;49margs, \u001b[39m*\u001b[39;49m\u001b[39m*\u001b[39;49mkwds)  \u001b[39m# pylint: disable=not-callable\u001b[39;00m\n\u001b[1;32m    858\u001b[0m \u001b[39melif\u001b[39;00m \u001b[39mself\u001b[39m\u001b[39m.\u001b[39m_variable_creation_fn \u001b[39mis\u001b[39;00m \u001b[39mnot\u001b[39;00m \u001b[39mNone\u001b[39;00m:\n\u001b[1;32m    859\u001b[0m   \u001b[39m# Release the lock early so that multiple threads can perform the call\u001b[39;00m\n\u001b[1;32m    860\u001b[0m   \u001b[39m# in parallel.\u001b[39;00m\n\u001b[1;32m    861\u001b[0m   \u001b[39mself\u001b[39m\u001b[39m.\u001b[39m_lock\u001b[39m.\u001b[39mrelease()\n",
      "File \u001b[0;32m~/miniconda3/envs/tf/lib/python3.9/site-packages/tensorflow/python/eager/polymorphic_function/tracing_compiler.py:148\u001b[0m, in \u001b[0;36mTracingCompiler.__call__\u001b[0;34m(self, *args, **kwargs)\u001b[0m\n\u001b[1;32m    145\u001b[0m \u001b[39mwith\u001b[39;00m \u001b[39mself\u001b[39m\u001b[39m.\u001b[39m_lock:\n\u001b[1;32m    146\u001b[0m   (concrete_function,\n\u001b[1;32m    147\u001b[0m    filtered_flat_args) \u001b[39m=\u001b[39m \u001b[39mself\u001b[39m\u001b[39m.\u001b[39m_maybe_define_function(args, kwargs)\n\u001b[0;32m--> 148\u001b[0m \u001b[39mreturn\u001b[39;00m concrete_function\u001b[39m.\u001b[39;49m_call_flat(\n\u001b[1;32m    149\u001b[0m     filtered_flat_args, captured_inputs\u001b[39m=\u001b[39;49mconcrete_function\u001b[39m.\u001b[39;49mcaptured_inputs)\n",
      "File \u001b[0;32m~/miniconda3/envs/tf/lib/python3.9/site-packages/tensorflow/python/eager/polymorphic_function/monomorphic_function.py:1349\u001b[0m, in \u001b[0;36mConcreteFunction._call_flat\u001b[0;34m(self, args, captured_inputs)\u001b[0m\n\u001b[1;32m   1345\u001b[0m possible_gradient_type \u001b[39m=\u001b[39m gradients_util\u001b[39m.\u001b[39mPossibleTapeGradientTypes(args)\n\u001b[1;32m   1346\u001b[0m \u001b[39mif\u001b[39;00m (possible_gradient_type \u001b[39m==\u001b[39m gradients_util\u001b[39m.\u001b[39mPOSSIBLE_GRADIENT_TYPES_NONE\n\u001b[1;32m   1347\u001b[0m     \u001b[39mand\u001b[39;00m executing_eagerly):\n\u001b[1;32m   1348\u001b[0m   \u001b[39m# No tape is watching; skip to running the function.\u001b[39;00m\n\u001b[0;32m-> 1349\u001b[0m   \u001b[39mreturn\u001b[39;00m \u001b[39mself\u001b[39m\u001b[39m.\u001b[39m_build_call_outputs(\u001b[39mself\u001b[39;49m\u001b[39m.\u001b[39;49m_inference_function(\u001b[39m*\u001b[39;49margs))\n\u001b[1;32m   1350\u001b[0m forward_backward \u001b[39m=\u001b[39m \u001b[39mself\u001b[39m\u001b[39m.\u001b[39m_select_forward_and_backward_functions(\n\u001b[1;32m   1351\u001b[0m     args,\n\u001b[1;32m   1352\u001b[0m     possible_gradient_type,\n\u001b[1;32m   1353\u001b[0m     executing_eagerly)\n\u001b[1;32m   1354\u001b[0m forward_function, args_with_tangents \u001b[39m=\u001b[39m forward_backward\u001b[39m.\u001b[39mforward()\n",
      "File \u001b[0;32m~/miniconda3/envs/tf/lib/python3.9/site-packages/tensorflow/python/eager/polymorphic_function/atomic_function.py:196\u001b[0m, in \u001b[0;36mAtomicFunction.__call__\u001b[0;34m(self, *args)\u001b[0m\n\u001b[1;32m    194\u001b[0m \u001b[39mwith\u001b[39;00m record\u001b[39m.\u001b[39mstop_recording():\n\u001b[1;32m    195\u001b[0m   \u001b[39mif\u001b[39;00m \u001b[39mself\u001b[39m\u001b[39m.\u001b[39m_bound_context\u001b[39m.\u001b[39mexecuting_eagerly():\n\u001b[0;32m--> 196\u001b[0m     outputs \u001b[39m=\u001b[39m \u001b[39mself\u001b[39;49m\u001b[39m.\u001b[39;49m_bound_context\u001b[39m.\u001b[39;49mcall_function(\n\u001b[1;32m    197\u001b[0m         \u001b[39mself\u001b[39;49m\u001b[39m.\u001b[39;49mname,\n\u001b[1;32m    198\u001b[0m         \u001b[39mlist\u001b[39;49m(args),\n\u001b[1;32m    199\u001b[0m         \u001b[39mlen\u001b[39;49m(\u001b[39mself\u001b[39;49m\u001b[39m.\u001b[39;49mfunction_type\u001b[39m.\u001b[39;49mflat_outputs),\n\u001b[1;32m    200\u001b[0m     )\n\u001b[1;32m    201\u001b[0m   \u001b[39melse\u001b[39;00m:\n\u001b[1;32m    202\u001b[0m     outputs \u001b[39m=\u001b[39m make_call_op_in_graph(\u001b[39mself\u001b[39m, \u001b[39mlist\u001b[39m(args))\n",
      "File \u001b[0;32m~/miniconda3/envs/tf/lib/python3.9/site-packages/tensorflow/python/eager/context.py:1457\u001b[0m, in \u001b[0;36mContext.call_function\u001b[0;34m(self, name, tensor_inputs, num_outputs)\u001b[0m\n\u001b[1;32m   1455\u001b[0m cancellation_context \u001b[39m=\u001b[39m cancellation\u001b[39m.\u001b[39mcontext()\n\u001b[1;32m   1456\u001b[0m \u001b[39mif\u001b[39;00m cancellation_context \u001b[39mis\u001b[39;00m \u001b[39mNone\u001b[39;00m:\n\u001b[0;32m-> 1457\u001b[0m   outputs \u001b[39m=\u001b[39m execute\u001b[39m.\u001b[39;49mexecute(\n\u001b[1;32m   1458\u001b[0m       name\u001b[39m.\u001b[39;49mdecode(\u001b[39m\"\u001b[39;49m\u001b[39mutf-8\u001b[39;49m\u001b[39m\"\u001b[39;49m),\n\u001b[1;32m   1459\u001b[0m       num_outputs\u001b[39m=\u001b[39;49mnum_outputs,\n\u001b[1;32m   1460\u001b[0m       inputs\u001b[39m=\u001b[39;49mtensor_inputs,\n\u001b[1;32m   1461\u001b[0m       attrs\u001b[39m=\u001b[39;49mattrs,\n\u001b[1;32m   1462\u001b[0m       ctx\u001b[39m=\u001b[39;49m\u001b[39mself\u001b[39;49m,\n\u001b[1;32m   1463\u001b[0m   )\n\u001b[1;32m   1464\u001b[0m \u001b[39melse\u001b[39;00m:\n\u001b[1;32m   1465\u001b[0m   outputs \u001b[39m=\u001b[39m execute\u001b[39m.\u001b[39mexecute_with_cancellation(\n\u001b[1;32m   1466\u001b[0m       name\u001b[39m.\u001b[39mdecode(\u001b[39m\"\u001b[39m\u001b[39mutf-8\u001b[39m\u001b[39m\"\u001b[39m),\n\u001b[1;32m   1467\u001b[0m       num_outputs\u001b[39m=\u001b[39mnum_outputs,\n\u001b[0;32m   (...)\u001b[0m\n\u001b[1;32m   1471\u001b[0m       cancellation_manager\u001b[39m=\u001b[39mcancellation_context,\n\u001b[1;32m   1472\u001b[0m   )\n",
      "File \u001b[0;32m~/miniconda3/envs/tf/lib/python3.9/site-packages/tensorflow/python/eager/execute.py:53\u001b[0m, in \u001b[0;36mquick_execute\u001b[0;34m(op_name, num_outputs, inputs, attrs, ctx, name)\u001b[0m\n\u001b[1;32m     51\u001b[0m \u001b[39mtry\u001b[39;00m:\n\u001b[1;32m     52\u001b[0m   ctx\u001b[39m.\u001b[39mensure_initialized()\n\u001b[0;32m---> 53\u001b[0m   tensors \u001b[39m=\u001b[39m pywrap_tfe\u001b[39m.\u001b[39;49mTFE_Py_Execute(ctx\u001b[39m.\u001b[39;49m_handle, device_name, op_name,\n\u001b[1;32m     54\u001b[0m                                       inputs, attrs, num_outputs)\n\u001b[1;32m     55\u001b[0m \u001b[39mexcept\u001b[39;00m core\u001b[39m.\u001b[39m_NotOkStatusException \u001b[39mas\u001b[39;00m e:\n\u001b[1;32m     56\u001b[0m   \u001b[39mif\u001b[39;00m name \u001b[39mis\u001b[39;00m \u001b[39mnot\u001b[39;00m \u001b[39mNone\u001b[39;00m:\n",
      "\u001b[0;31mKeyboardInterrupt\u001b[0m: "
     ]
    },
    {
     "name": "stderr",
     "output_type": "stream",
     "text": [
      "2023-11-14 17:49:06.943247: W tensorflow/tsl/framework/cpu_allocator_impl.cc:83] Allocation of 15876000 exceeds 10% of free system memory.\n"
     ]
    }
   ],
   "source": [
    "history = model.fit(train_batch, validation_data = valid_batch, epochs = epochs, callbacks = [ClearMemory()])"
   ]
  },
  {
   "cell_type": "code",
   "execution_count": null,
   "metadata": {},
   "outputs": [],
   "source": [
    "train_data = '12_11_23'\n",
    "train_hour = '23_45'\n",
    "model_name = 'model_2'\n",
    "train_name =  model_name + '_' + train_data + '_' + train_hour"
   ]
  },
  {
   "cell_type": "code",
   "execution_count": null,
   "metadata": {},
   "outputs": [],
   "source": [
    "# Saves weights and architecture\n",
    "model.save(train_name + '.keras')\n",
    "\n",
    "# Saves training history\n",
    "with open(train_name + '.json', 'w') as file:\n",
    "    json.dump(history.history, file)"
   ]
  },
  {
   "cell_type": "code",
   "execution_count": null,
   "metadata": {},
   "outputs": [
    {
     "data": {
      "image/png": "[encoded data removed]",
      "text/plain": [
       "<Figure size 640x480 with 1 Axes>"
      ]
     },
     "metadata": {},
     "output_type": "display_data"
    }
   ],
   "source": [
    "def plot_loss(history):\n",
    "    loss = history['loss']\n",
    "    valloss = history['val_loss']\n",
    "    epochs = range(len(loss))\n",
    "    plt.plot(epochs, loss, 'r', label = 'treinamento')\n",
    "    plt.plot(epochs, valloss, 'b', label = 'validação')\n",
    "    plt.title('Erro quadrático médio')\n",
    "    plt.xlabel('Epocas')\n",
    "    plt.ylabel('Erro')\n",
    "    plt.legend()\n",
    "\n",
    "import matplotlib.pyplot as plt\n",
    "\n",
    "plot_loss(history.history)\n",
    "\n",
    "np.min(history.history['loss'])"
   ]
  },
  {
   "cell_type": "code",
   "execution_count": null,
   "metadata": {},
   "outputs": [],
   "source": [
    "# 1 = 7.0427\n",
    "# vec - off\n",
    "# norm - off\n",
    "# std - off\n",
    "\n",
    "#2 = 5.4538\n",
    "# vec - on\n",
    "# norm - off\n",
    "# std - off\n",
    "\n",
    "#3 = 7.086706161499023\n",
    "# vec - off\n",
    "# norm - on\n",
    "# std - off\n",
    "\n",
    "#4 = 0.024497942999005318\n",
    "# vec - off\n",
    "# norm - off\n",
    "# std - on\n",
    "\n",
    "#5 = 0.024538975208997726\n",
    "# vec - off\n",
    "# norm - on\n",
    "# std - on\n",
    "\n",
    "#6 =\n",
    "# vec - on\n",
    "# norm - on\n",
    "# std - on"
   ]
  }
 ],
 "metadata": {
  "kernelspec": {
   "display_name": "vel_env",
   "language": "python",
   "name": "python3"
  },
  "language_info": {
   "codemirror_mode": {
    "name": "ipython",
    "version": 3
   },
   "file_extension": ".py",
   "mimetype": "text/x-python",
   "name": "python",
   "nbconvert_exporter": "python",
   "pygments_lexer": "ipython3",
   "version": "3.9.18"
  },
  "orig_nbformat": 4
 },
 "nbformat": 4,
 "nbformat_minor": 2
}
