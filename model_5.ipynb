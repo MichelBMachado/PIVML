{
 "cells": [
  {
   "cell_type": "markdown",
   "metadata": {},
   "source": [
    "## REQUIRED PACKAGES"
   ]
  },
  {
   "cell_type": "code",
   "execution_count": 1,
   "metadata": {},
   "outputs": [
    {
     "name": "stderr",
     "output_type": "stream",
     "text": [
      "2023-11-14 17:54:59.306468: I tensorflow/core/platform/cpu_feature_guard.cc:182] This TensorFlow binary is optimized to use available CPU instructions in performance-critical operations.\n",
      "To enable the following instructions: AVX2 FMA, in other operations, rebuild TensorFlow with the appropriate compiler flags.\n",
      "2023-11-14 17:55:00.070202: W tensorflow/compiler/tf2tensorrt/utils/py_utils.cc:38] TF-TRT Warning: Could not find TensorRT\n"
     ]
    }
   ],
   "source": [
    "# Machine learning packages\n",
    "import tensorflow as tf\n",
    "from keras.models import Sequential\n",
    "from keras.layers import Conv3D, MaxPooling3D, Flatten, Dense, Reshape, BatchNormalization, Dropout, InputLayer\n",
    "\n",
    "# Dataset management packages\n",
    "from spivutils.synthetic_datasets.spid import load_data\n",
    "from spivutils.batch_generators.keras_generator import batch_data\n",
    "from spivutils.common_tools.operations import normalization, vectoraddition, thresholding, imagecropping\n",
    "\n",
    "# \n",
    "from numpy import prod, zeros\n",
    "\n",
    "#\n",
    "import pandas as pd\n",
    "\n",
    "#\n",
    "import json"
   ]
  },
  {
   "cell_type": "markdown",
   "metadata": {},
   "source": [
    "## HARDWARE SETTINGS"
   ]
  },
  {
   "cell_type": "code",
   "execution_count": 2,
   "metadata": {},
   "outputs": [
    {
     "name": "stderr",
     "output_type": "stream",
     "text": [
      "2023-11-14 17:55:01.309624: I tensorflow/compiler/xla/stream_executor/cuda/cuda_gpu_executor.cc:981] could not open file to read NUMA node: /sys/bus/pci/devices/0000:01:00.0/numa_node\n",
      "Your kernel may have been built without NUMA support.\n",
      "2023-11-14 17:55:01.332681: I tensorflow/compiler/xla/stream_executor/cuda/cuda_gpu_executor.cc:981] could not open file to read NUMA node: /sys/bus/pci/devices/0000:01:00.0/numa_node\n",
      "Your kernel may have been built without NUMA support.\n",
      "2023-11-14 17:55:01.332947: I tensorflow/compiler/xla/stream_executor/cuda/cuda_gpu_executor.cc:981] could not open file to read NUMA node: /sys/bus/pci/devices/0000:01:00.0/numa_node\n",
      "Your kernel may have been built without NUMA support.\n"
     ]
    }
   ],
   "source": [
    "# Detects the avaiable hardware\n",
    "cpu_devices = tf.config.list_physical_devices('CPU')\n",
    "gpu_devices = tf.config.experimental.list_physical_devices('GPU')\n",
    "\n",
    "# Allow memory growth\n",
    "for gpu in gpu_devices:\n",
    "  tf.config.experimental.set_memory_growth(gpu, True)"
   ]
  },
  {
   "cell_type": "markdown",
   "metadata": {},
   "source": [
    "## MODEL HYPERPARAMETERS"
   ]
  },
  {
   "cell_type": "code",
   "execution_count": 3,
   "metadata": {},
   "outputs": [],
   "source": [
    "# CNN Layers Hyperparameters\n",
    "cnn_layers = 10\n",
    "filters = [2, 4, 8, 16, 32, 64, 128] + [128]*10             #[32, 64, 128, 256, 512, 1024, 2048]\n",
    "kernel_size = [(1,3,3)]*15                                  #[(1,3,3), (1,5,5), (1,7,7), (1,9,9), (1,11,11)]\n",
    "pool_size = [(1,2,2)]*15                                    #[(1,2,2), (1,4,4), (1,6,6), (1,8,8), (1,10,10)]\n",
    "padding = 'same'\n",
    "strides = 1\n",
    "momentum = 0.95\n",
    "\n",
    "# Dense Layers Hyperparameters\n",
    "dense_layers = 10\n",
    "dense_units = [2048, 1024, 512, 256, 128, 64, 32] + [32]*4    # Hidden units per layer\n",
    "\n",
    "# Training Hyperparameters\n",
    "chunk_size = 1000  #15119\n",
    "batch_size = 5\n",
    "num_epoch  = 10\n",
    "activation_function = 'LeakyReLU', 'linear'\n",
    "optimizer_function = 'adam'                                      # Weight update after each iteration\n",
    "loss_function = 'mean_squared_error'                             # Sets the Loss function\n",
    "learning_rate = 0.001                                           \n",
    "dropout = 0.1"
   ]
  },
  {
   "cell_type": "markdown",
   "metadata": {},
   "source": [
    "## DATA LOADING"
   ]
  },
  {
   "cell_type": "code",
   "execution_count": 4,
   "metadata": {},
   "outputs": [
    {
     "name": "stdout",
     "output_type": "stream",
     "text": [
      "\n",
      " Checking files ...\n",
      "\n",
      " train_x.npy  Found!\n",
      "\n",
      " train_y.npy  Found!\n",
      "\n",
      " valid_x.npy  Found!\n",
      "\n",
      " valid_y.npy  Found!\n",
      "\n",
      " test_x.npy  Found!\n",
      "\n",
      " test_y.npy  Found!\n",
      "\n",
      " Importing data ...\n",
      "\n",
      " Data loading successful!\n"
     ]
    }
   ],
   "source": [
    "# Imports train and validation data\n",
    "(train_x, train_y), (valid_x, valid_y), _ = load_data()\n",
    "\n",
    "# Collect a chunk of the dataset\n",
    "train_x_chunk = train_x[0:int(chunk_size*0.7)]\n",
    "train_y_chunk = train_y[0:int(chunk_size*0.7)]\n",
    "valid_x_chunk = valid_x[0:int(chunk_size*0.15)]\n",
    "valid_y_chunk = valid_y[0:int(chunk_size*0.15)]\n",
    "\n",
    "# Load data in batches to avoid memory overload\n",
    "train_batch = batch_data(train_x_chunk, train_y_chunk, batch_size)\n",
    "valid_batch = batch_data(valid_x_chunk, valid_y_chunk, batch_size)"
   ]
  },
  {
   "cell_type": "markdown",
   "metadata": {},
   "source": [
    "## DATA PREPROCESSING"
   ]
  },
  {
   "cell_type": "code",
   "execution_count": null,
   "metadata": {},
   "outputs": [],
   "source": [
    "\n",
    "def standardization(input_data):\n",
    "\n",
    "    output_data = zeros(input_data.shape)\n",
    "\n",
    "    #min = np.min(input_data)\n",
    "    #max = np.max(input_data)\n",
    "\n",
    "    max = 8.75\n",
    "    min = 0\n",
    "\n",
    "    output_data[:, :, :] = (input_data[:, :, :] - min)/(max - min)\n",
    "\n",
    "    return output_data"
   ]
  },
  {
   "cell_type": "code",
   "execution_count": 5,
   "metadata": {},
   "outputs": [],
   "source": [
    "def standardization(input_data):\n",
    "\n",
    "    output_data = zeros(input_data.shape)\n",
    "\n",
    "    #min = np.min(input_data)\n",
    "    #max = np.max(input_data)\n",
    "\n",
    "    max = 8.75\n",
    "    min = -8.75\n",
    "\n",
    "    for i in range(2):\n",
    "\n",
    "        output_data[:, i, :, :] = (input_data[:, i, :, :] - min)/(max - min)\n",
    "\n",
    "    return output_data"
   ]
  },
  {
   "cell_type": "code",
   "execution_count": 6,
   "metadata": {},
   "outputs": [],
   "source": [
    "\n",
    "\n",
    "# Crops a square region with size equals to small image dimension at the center of the image\n",
    "train_batch.add_x_preprocessing_operation(imagecropping)\n",
    "valid_batch.add_x_preprocessing_operation(imagecropping)\n",
    "\n",
    "# Crops a square region with size equals to small image dimension at the center of the image\n",
    "train_batch.add_y_preprocessing_operation(imagecropping)\n",
    "valid_batch.add_y_preprocessing_operation(imagecropping)\n",
    "\n",
    "#\n",
    "train_batch.add_y_preprocessing_operation(vectoraddition)\n",
    "valid_batch.add_y_preprocessing_operation(vectoraddition)\n",
    "\n",
    "# Apply normalization to the input data\n",
    "#train_batch.add_x_preprocessing_operation(normalization)\n",
    "#valid_batch.add_x_preprocessing_operation(normalization)\n",
    "\n",
    "# Apply normalization to the output data\n",
    "#train_batch.add_y_preprocessing_operation(standardization)\n",
    "#valid_batch.add_y_preprocessing_operation(standardization)"
   ]
  },
  {
   "cell_type": "markdown",
   "metadata": {},
   "source": [
    "## MODEL DEFINITION"
   ]
  },
  {
   "cell_type": "code",
   "execution_count": 7,
   "metadata": {},
   "outputs": [],
   "source": [
    "# Convolutional neural network setup\n",
    "def build_cnn_layers(model, num_layers, filters, kernel_size, pool_size, strides, padding, activation, momentum):\n",
    "\n",
    "    for layer in range(0, num_layers):\n",
    "        \n",
    "        model.add(Conv3D(\n",
    "                            filters = filters[layer], \n",
    "                            kernel_size = kernel_size[layer], \n",
    "                            activation = activation[0], \n",
    "                            strides = strides, \n",
    "                            padding = padding))\n",
    "        \n",
    "        model.add(BatchNormalization(momentum = momentum))\n",
    "        model.add(MaxPooling3D(\n",
    "                                pool_size = pool_size[layer],\n",
    "                                padding = padding))\n",
    "\n",
    "    model.add(Flatten())"
   ]
  },
  {
   "cell_type": "code",
   "execution_count": 8,
   "metadata": {},
   "outputs": [],
   "source": [
    "# Deep neural network setup\n",
    "def build_dense_layers(model, dense_units, activation, num_layers, dropout):\n",
    "\n",
    "    for layer in range(0, num_layers):\n",
    "\n",
    "        model.add(Dense(units = dense_units[layer], activation = activation[0]))\n",
    "        model.add(Dropout(dropout))"
   ]
  },
  {
   "cell_type": "code",
   "execution_count": 9,
   "metadata": {},
   "outputs": [],
   "source": [
    "def build_model(input_shape, output_shape, filters, kernel_size, pool_size, dense_units, activation, padding):\n",
    "\n",
    "    model = Sequential()\n",
    "\n",
    "    model.add(InputLayer(input_shape))\n",
    "\n",
    "    build_cnn_layers(model, cnn_layers, filters, kernel_size, pool_size, strides, padding, activation, momentum)\n",
    "\n",
    "    build_dense_layers(model, dense_units, activation, dense_layers, dropout)\n",
    "\n",
    "    model.add(Dense(prod(output_shape), activation = activation[1]))\n",
    "\n",
    "    model.add(Reshape(output_shape))\n",
    "\n",
    "    return model"
   ]
  },
  {
   "cell_type": "code",
   "execution_count": 10,
   "metadata": {},
   "outputs": [
    {
     "name": "stderr",
     "output_type": "stream",
     "text": [
      "2023-11-14 17:55:46.471223: I tensorflow/compiler/xla/stream_executor/cuda/cuda_gpu_executor.cc:981] could not open file to read NUMA node: /sys/bus/pci/devices/0000:01:00.0/numa_node\n",
      "Your kernel may have been built without NUMA support.\n",
      "2023-11-14 17:55:46.471767: I tensorflow/compiler/xla/stream_executor/cuda/cuda_gpu_executor.cc:981] could not open file to read NUMA node: /sys/bus/pci/devices/0000:01:00.0/numa_node\n",
      "Your kernel may have been built without NUMA support.\n",
      "2023-11-14 17:55:46.472023: I tensorflow/compiler/xla/stream_executor/cuda/cuda_gpu_executor.cc:981] could not open file to read NUMA node: /sys/bus/pci/devices/0000:01:00.0/numa_node\n",
      "Your kernel may have been built without NUMA support.\n",
      "2023-11-14 17:55:47.354371: I tensorflow/compiler/xla/stream_executor/cuda/cuda_gpu_executor.cc:981] could not open file to read NUMA node: /sys/bus/pci/devices/0000:01:00.0/numa_node\n",
      "Your kernel may have been built without NUMA support.\n",
      "2023-11-14 17:55:47.354700: I tensorflow/compiler/xla/stream_executor/cuda/cuda_gpu_executor.cc:981] could not open file to read NUMA node: /sys/bus/pci/devices/0000:01:00.0/numa_node\n",
      "Your kernel may have been built without NUMA support.\n",
      "2023-11-14 17:55:47.354716: I tensorflow/core/common_runtime/gpu/gpu_device.cc:1726] Could not identify NUMA node of platform GPU id 0, defaulting to 0.  Your kernel may not have been built with NUMA support.\n",
      "2023-11-14 17:55:47.354943: I tensorflow/compiler/xla/stream_executor/cuda/cuda_gpu_executor.cc:981] could not open file to read NUMA node: /sys/bus/pci/devices/0000:01:00.0/numa_node\n",
      "Your kernel may have been built without NUMA support.\n",
      "2023-11-14 17:55:47.354990: I tensorflow/core/common_runtime/gpu/gpu_device.cc:1639] Created device /job:localhost/replica:0/task:0/device:GPU:0 with 3911 MB memory:  -> device: 0, name: NVIDIA GeForce GTX 1660 Ti, pci bus id: 0000:01:00.0, compute capability: 7.5\n"
     ]
    }
   ],
   "source": [
    "# Model dimensions\n",
    "input_shape = train_batch[0][0][0,].shape\n",
    "output_shape = train_batch[0][1][0,].shape\n",
    "\n",
    "# Build model\n",
    "model = build_model(input_shape, output_shape, filters, kernel_size, pool_size, dense_units, activation_function, padding)\n",
    "\n",
    "# Compile model\n",
    "model.compile(loss = loss_function, optimizer = optimizer_function)"
   ]
  },
  {
   "cell_type": "markdown",
   "metadata": {},
   "source": [
    "## MODEL SUMMARIZATION"
   ]
  },
  {
   "cell_type": "code",
   "execution_count": 11,
   "metadata": {},
   "outputs": [
    {
     "name": "stdout",
     "output_type": "stream",
     "text": [
      "Model: \"sequential\"\n",
      "_________________________________________________________________\n",
      " Layer (type)                Output Shape              Param #   \n",
      "=================================================================\n",
      " conv3d (Conv3D)             (None, 2, 630, 630, 2)    20        \n",
      "                                                                 \n",
      " batch_normalization (Batch  (None, 2, 630, 630, 2)    8         \n",
      " Normalization)                                                  \n",
      "                                                                 \n",
      " max_pooling3d (MaxPooling3  (None, 2, 315, 315, 2)    0         \n",
      " D)                                                              \n",
      "                                                                 \n",
      " conv3d_1 (Conv3D)           (None, 2, 315, 315, 4)    76        \n",
      "                                                                 \n",
      " batch_normalization_1 (Bat  (None, 2, 315, 315, 4)    16        \n",
      " chNormalization)                                                \n",
      "                                                                 \n",
      " max_pooling3d_1 (MaxPoolin  (None, 2, 158, 158, 4)    0         \n",
      " g3D)                                                            \n",
      "                                                                 \n",
      " conv3d_2 (Conv3D)           (None, 2, 158, 158, 8)    296       \n",
      "                                                                 \n",
      " batch_normalization_2 (Bat  (None, 2, 158, 158, 8)    32        \n",
      " chNormalization)                                                \n",
      "                                                                 \n",
      " max_pooling3d_2 (MaxPoolin  (None, 2, 79, 79, 8)      0         \n",
      " g3D)                                                            \n",
      "                                                                 \n",
      " conv3d_3 (Conv3D)           (None, 2, 79, 79, 16)     1168      \n",
      "                                                                 \n",
      " batch_normalization_3 (Bat  (None, 2, 79, 79, 16)     64        \n",
      " chNormalization)                                                \n",
      "                                                                 \n",
      " max_pooling3d_3 (MaxPoolin  (None, 2, 40, 40, 16)     0         \n",
      " g3D)                                                            \n",
      "                                                                 \n",
      " conv3d_4 (Conv3D)           (None, 2, 40, 40, 32)     4640      \n",
      "                                                                 \n",
      " batch_normalization_4 (Bat  (None, 2, 40, 40, 32)     128       \n",
      " chNormalization)                                                \n",
      "                                                                 \n",
      " max_pooling3d_4 (MaxPoolin  (None, 2, 20, 20, 32)     0         \n",
      " g3D)                                                            \n",
      "                                                                 \n",
      " conv3d_5 (Conv3D)           (None, 2, 20, 20, 64)     18496     \n",
      "                                                                 \n",
      " batch_normalization_5 (Bat  (None, 2, 20, 20, 64)     256       \n",
      " chNormalization)                                                \n",
      "                                                                 \n",
      " max_pooling3d_5 (MaxPoolin  (None, 2, 10, 10, 64)     0         \n",
      " g3D)                                                            \n",
      "                                                                 \n",
      " conv3d_6 (Conv3D)           (None, 2, 10, 10, 128)    73856     \n",
      "                                                                 \n",
      " batch_normalization_6 (Bat  (None, 2, 10, 10, 128)    512       \n",
      " chNormalization)                                                \n",
      "                                                                 \n",
      " max_pooling3d_6 (MaxPoolin  (None, 2, 5, 5, 128)      0         \n",
      " g3D)                                                            \n",
      "                                                                 \n",
      " conv3d_7 (Conv3D)           (None, 2, 5, 5, 128)      147584    \n",
      "                                                                 \n",
      " batch_normalization_7 (Bat  (None, 2, 5, 5, 128)      512       \n",
      " chNormalization)                                                \n",
      "                                                                 \n",
      " max_pooling3d_7 (MaxPoolin  (None, 2, 3, 3, 128)      0         \n",
      " g3D)                                                            \n",
      "                                                                 \n",
      " conv3d_8 (Conv3D)           (None, 2, 3, 3, 128)      147584    \n",
      "                                                                 \n",
      " batch_normalization_8 (Bat  (None, 2, 3, 3, 128)      512       \n",
      " chNormalization)                                                \n",
      "                                                                 \n",
      " max_pooling3d_8 (MaxPoolin  (None, 2, 2, 2, 128)      0         \n",
      " g3D)                                                            \n",
      "                                                                 \n",
      " conv3d_9 (Conv3D)           (None, 2, 2, 2, 128)      147584    \n",
      "                                                                 \n",
      " batch_normalization_9 (Bat  (None, 2, 2, 2, 128)      512       \n",
      " chNormalization)                                                \n",
      "                                                                 \n",
      " max_pooling3d_9 (MaxPoolin  (None, 2, 1, 1, 128)      0         \n",
      " g3D)                                                            \n",
      "                                                                 \n",
      " flatten (Flatten)           (None, 256)               0         \n",
      "                                                                 \n",
      " dense (Dense)               (None, 2048)              526336    \n",
      "                                                                 \n",
      " dropout (Dropout)           (None, 2048)              0         \n",
      "                                                                 \n",
      " dense_1 (Dense)             (None, 1024)              2098176   \n",
      "                                                                 \n",
      " dropout_1 (Dropout)         (None, 1024)              0         \n",
      "                                                                 \n",
      " dense_2 (Dense)             (None, 512)               524800    \n",
      "                                                                 \n",
      " dropout_2 (Dropout)         (None, 512)               0         \n",
      "                                                                 \n",
      " dense_3 (Dense)             (None, 256)               131328    \n",
      "                                                                 \n",
      " dropout_3 (Dropout)         (None, 256)               0         \n",
      "                                                                 \n",
      " dense_4 (Dense)             (None, 128)               32896     \n",
      "                                                                 \n",
      " dropout_4 (Dropout)         (None, 128)               0         \n",
      "                                                                 \n",
      " dense_5 (Dense)             (None, 64)                8256      \n",
      "                                                                 \n",
      " dropout_5 (Dropout)         (None, 64)                0         \n",
      "                                                                 \n",
      " dense_6 (Dense)             (None, 32)                2080      \n",
      "                                                                 \n",
      " dropout_6 (Dropout)         (None, 32)                0         \n",
      "                                                                 \n",
      " dense_7 (Dense)             (None, 32)                1056      \n",
      "                                                                 \n",
      " dropout_7 (Dropout)         (None, 32)                0         \n",
      "                                                                 \n",
      " dense_8 (Dense)             (None, 32)                1056      \n",
      "                                                                 \n",
      " dropout_8 (Dropout)         (None, 32)                0         \n",
      "                                                                 \n",
      " dense_9 (Dense)             (None, 32)                1056      \n",
      "                                                                 \n",
      " dropout_9 (Dropout)         (None, 32)                0         \n",
      "                                                                 \n",
      " dense_10 (Dense)            (None, 396900)            13097700  \n",
      "                                                                 \n",
      " reshape (Reshape)           (None, 630, 630)          0         \n",
      "                                                                 \n",
      "=================================================================\n",
      "Total params: 16968596 (64.73 MB)\n",
      "Trainable params: 16967320 (64.73 MB)\n",
      "Non-trainable params: 1276 (4.98 KB)\n",
      "_________________________________________________________________\n"
     ]
    }
   ],
   "source": [
    "model.summary()"
   ]
  },
  {
   "cell_type": "markdown",
   "metadata": {},
   "source": [
    "## MODEL TRAINING"
   ]
  },
  {
   "cell_type": "code",
   "execution_count": 12,
   "metadata": {},
   "outputs": [
    {
     "name": "stdout",
     "output_type": "stream",
     "text": [
      "Epoch 1/10\n"
     ]
    },
    {
     "name": "stderr",
     "output_type": "stream",
     "text": [
      "2023-11-14 17:55:58.340080: I tensorflow/compiler/xla/stream_executor/cuda/cuda_dnn.cc:432] Loaded cuDNN version 8600\n",
      "2023-11-14 17:55:59.683081: I tensorflow/compiler/xla/service/service.cc:168] XLA service 0x7fac75e41380 initialized for platform CUDA (this does not guarantee that XLA will be used). Devices:\n",
      "2023-11-14 17:55:59.683122: I tensorflow/compiler/xla/service/service.cc:176]   StreamExecutor device (0): NVIDIA GeForce GTX 1660 Ti, Compute Capability 7.5\n",
      "2023-11-14 17:55:59.688439: I tensorflow/compiler/mlir/tensorflow/utils/dump_mlir_util.cc:255] disabling MLIR crash reproducer, set env var `MLIR_CRASH_REPRODUCER_DIRECTORY` to enable.\n",
      "2023-11-14 17:55:59.811596: I ./tensorflow/compiler/jit/device_compiler.h:186] Compiled cluster using XLA!  This line is logged at most once for the lifetime of the process.\n"
     ]
    },
    {
     "name": "stdout",
     "output_type": "stream",
     "text": [
      "140/140 [==============================] - 75s 447ms/step - loss: 8.3154 - val_loss: 6.4351\n",
      "Epoch 2/10\n",
      "140/140 [==============================] - 14s 96ms/step - loss: 7.2245 - val_loss: 5.8856\n",
      "Epoch 3/10\n",
      "140/140 [==============================] - 14s 97ms/step - loss: 6.2125 - val_loss: 5.8731\n",
      "Epoch 4/10\n",
      "140/140 [==============================] - 14s 98ms/step - loss: 5.9072 - val_loss: 5.3050\n",
      "Epoch 5/10\n",
      "140/140 [==============================] - 14s 100ms/step - loss: 5.7237 - val_loss: 5.7599\n",
      "Epoch 6/10\n",
      "140/140 [==============================] - 14s 100ms/step - loss: 4.6760 - val_loss: 6.0150\n",
      "Epoch 7/10\n",
      "140/140 [==============================] - 14s 100ms/step - loss: 4.9481 - val_loss: 9.4793\n",
      "Epoch 8/10\n",
      "140/140 [==============================] - 14s 101ms/step - loss: 4.3281 - val_loss: 7.5527\n",
      "Epoch 9/10\n",
      "140/140 [==============================] - 15s 104ms/step - loss: 3.9965 - val_loss: 7.6450\n",
      "Epoch 10/10\n",
      "140/140 [==============================] - 14s 102ms/step - loss: 3.4819 - val_loss: 6.8461\n"
     ]
    }
   ],
   "source": [
    "history = model.fit(train_batch, validation_data = valid_batch, epochs = num_epoch)"
   ]
  },
  {
   "cell_type": "code",
   "execution_count": null,
   "metadata": {},
   "outputs": [],
   "source": [
    "# Saves model parameters and weights \n",
    "model.save('model_1_23_00.keras')\n",
    "\n",
    "# Saves the model training history\n",
    "#history_df = pd.DataFrame(history.history)\n",
    "#history_df.to_csv('training_history.csv', index = False)\n",
    "\n",
    "with open('model_1_23_00_training_history.json', 'w') as file:\n",
    "    json.dump(history.history, file)"
   ]
  },
  {
   "cell_type": "code",
   "execution_count": 13,
   "metadata": {},
   "outputs": [
    {
     "data": {
      "text/plain": [
       "3.481853723526001"
      ]
     },
     "execution_count": 13,
     "metadata": {},
     "output_type": "execute_result"
    },
    {
     "data": {
      "image/png": "[encoded data removed]",
      "text/plain": [
       "<Figure size 640x480 with 1 Axes>"
      ]
     },
     "metadata": {},
     "output_type": "display_data"
    }
   ],
   "source": [
    "def plot_loss(history):\n",
    "    loss = history['loss']\n",
    "    valloss = history['val_loss']\n",
    "    epochs = range(len(loss))\n",
    "    plt.plot(epochs, loss, 'r', label = 'treinamento')\n",
    "    plt.plot(epochs, valloss, 'b', label = 'validação')\n",
    "    plt.title('Erro quadrático médio')\n",
    "    plt.xlabel('Epocas')\n",
    "    plt.ylabel('Erro')\n",
    "    plt.legend()\n",
    "\n",
    "import matplotlib.pyplot as plt\n",
    "import numpy as np\n",
    "\n",
    "plot_loss(history.history)\n",
    "\n",
    "np.min(history.history['loss'])"
   ]
  },
  {
   "cell_type": "code",
   "execution_count": null,
   "metadata": {},
   "outputs": [],
   "source": [
    "# 1 = 7.17478084564209\n",
    "# vec - off\n",
    "# norm - off\n",
    "# std - off\n",
    "\n",
    "#2 = 0.05414246767759323\n",
    "# vec - on\n",
    "# norm - off\n",
    "# std - off\n",
    "\n",
    "#3 = 6.575065612792969\n",
    "# vec - off\n",
    "# norm - on\n",
    "# std - off\n",
    "\n",
    "#4 = 0.02096634916961193\n",
    "# vec - off\n",
    "# norm - off\n",
    "# std - on\n",
    "\n",
    "#5 = 0.021364504471421242\n",
    "# vec - off\n",
    "# norm - on\n",
    "# std - on\n",
    "\n",
    "#6 = 0.05872812122106552\n",
    "# vec - on\n",
    "# norm - on\n",
    "# std - on"
   ]
  }
 ],
 "metadata": {
  "kernelspec": {
   "display_name": "Python 3 (ipykernel)",
   "language": "python",
   "name": "python3"
  },
  "language_info": {
   "codemirror_mode": {
    "name": "ipython",
    "version": 3
   },
   "file_extension": ".py",
   "mimetype": "text/x-python",
   "name": "python",
   "nbconvert_exporter": "python",
   "pygments_lexer": "ipython3",
   "version": "3.9.18"
  }
 },
 "nbformat": 4,
 "nbformat_minor": 2
}
