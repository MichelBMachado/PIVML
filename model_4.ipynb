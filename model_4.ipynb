{
 "cells": [
  {
   "cell_type": "code",
   "execution_count": null,
   "metadata": {},
   "outputs": [],
   "source": [
    "#Model dimensions\n",
    "input_shape = train_batch[0][0][0,].shape\n",
    "output_shape = train_batch[0][1][0,].shape\n",
    "\n",
    "# Create a Sequential model\n",
    "model = Sequential()\n",
    "\n",
    "# Define the convolutional neural network (CNN) layers\n",
    "model.add(TimeDistributed(Conv2D(filters = filters[0], kernel_size = kernel_size[4], padding = padding)))\n",
    "model.add(TimeDistributed(Activation(activation[0])))\n",
    "model.add(TimeDistributed(MaxPooling2D(pool_size = pool_size[4])))\n",
    "\n",
    "model.add(TimeDistributed(Conv2D(filters = filters[1], kernel_size = kernel_size[3], padding = padding)))\n",
    "model.add(TimeDistributed(Activation(activation[0])))\n",
    "model.add(TimeDistributed(MaxPooling2D(pool_size = pool_size[3])))\n",
    "\n",
    "model.add(TimeDistributed(Conv2D(filters = filters[2], kernel_size = kernel_size[2], padding = padding)))\n",
    "model.add(TimeDistributed(Activation(activation[0])))\n",
    "model.add(TimeDistributed(MaxPooling2D(pool_size = pool_size[2])))\n",
    "\n",
    "model.add(TimeDistributed(Flatten()))\n",
    "\n",
    "# Define the Long Short-Term Memory (LSTM) layer\n",
    "model.add(LSTM(units = lstm_units[0], return_sequences = False))\n",
    "\n",
    "# Define dense layers\n",
    "model.add(Dense(units = dense_units[0]))\n",
    "model.add(Activation(activation[0]))\n",
    "\n",
    "model.add(Dense(np.prod(output_shape)))\n",
    "model.add(Activation(activation[1]))\n",
    "\n",
    "model.add(Reshape(output_shape))\n",
    "\n",
    "# Compile the model with the appropriate loss function and optimizer\n",
    "model.compile(loss = loss_function, optimizer = optimizer_function)\n"
   ]
  }
 ],
 "metadata": {
  "language_info": {
   "name": "python"
  }
 },
 "nbformat": 4,
 "nbformat_minor": 2
}
